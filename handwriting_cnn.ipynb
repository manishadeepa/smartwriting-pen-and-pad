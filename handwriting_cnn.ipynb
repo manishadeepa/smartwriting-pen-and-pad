{
  "nbformat": 4,
  "nbformat_minor": 0,
  "metadata": {
    "colab": {
      "provenance": [],
      "authorship_tag": "ABX9TyMv4zW3N+SfehjZsUrl2UlZ",
      "include_colab_link": true
    },
    "kernelspec": {
      "name": "python3",
      "display_name": "Python 3"
    },
    "language_info": {
      "name": "python"
    }
  },
  "cells": [
    {
      "cell_type": "markdown",
      "metadata": {
        "id": "view-in-github",
        "colab_type": "text"
      },
      "source": [
        "<a href=\"https://colab.research.google.com/github/manishadeepa/smartwriting-pen-and-pad/blob/main/handwriting_cnn.ipynb\" target=\"_parent\"><img src=\"https://colab.research.google.com/assets/colab-badge.svg\" alt=\"Open In Colab\"/></a>"
      ]
    },
    {
      "cell_type": "code",
      "source": [
        "from google.colab import drive\n",
        "drive.mount('/content/drive')"
      ],
      "metadata": {
        "colab": {
          "base_uri": "https://localhost:8080/"
        },
        "id": "xuHrCQKQ3hMW",
        "outputId": "5b5eaf35-5dab-47a9-8b30-6e9a2c8b1cfe"
      },
      "execution_count": null,
      "outputs": [
        {
          "output_type": "stream",
          "name": "stdout",
          "text": [
            "Drive already mounted at /content/drive; to attempt to forcibly remount, call drive.mount(\"/content/drive\", force_remount=True).\n"
          ]
        }
      ]
    },
    {
      "cell_type": "markdown",
      "source": [
        "Cite for EMNIST dataset:\n",
        "\n",
        "Cohen, G., Afshar, S., Tapson, J., & van Schaik, A. (2017). EMNIST: an extension of MNIST to handwritten letters. Retrieved from http://arxiv.org/abs/1702.05373"
      ],
      "metadata": {
        "id": "oSzwvNGI3_sR"
      }
    },
    {
      "cell_type": "code",
      "source": [
        "import tensorflow as tf\n",
        "import numpy as np\n",
        "import scipy.io\n",
        "import zipfile\n",
        "import os\n",
        "from tensorflow.keras.utils import to_categorical\n",
        "from tensorflow.keras import layers, models\n",
        "from tensorflow.keras.preprocessing.image import ImageDataGenerator\n",
        "from PIL import Image, ImageDraw\n",
        "import matplotlib.pyplot as plt\n",
        "import cv2\n",
        "from sklearn.model_selection import train_test_split"
      ],
      "metadata": {
        "id": "4rgYF2AQ4Lny"
      },
      "execution_count": null,
      "outputs": []
    },
    {
      "cell_type": "code",
      "source": [
        "# Paths\n",
        "zip_path = '/content/drive/MyDrive/matlab.zip'\n",
        "extract_path = '/content/emnist'\n",
        "\n",
        "# Extract zip file\n",
        "if not os.path.exists(extract_path):\n",
        "    with zipfile.ZipFile(zip_path, 'r') as zip_ref:\n",
        "        zip_ref.extractall(extract_path)\n",
        "\n",
        "# Load EMNIST balanced dataset\n",
        "mat_path = os.path.join(extract_path, 'matlab/emnist-balanced.mat')\n",
        "mat = scipy.io.loadmat(mat_path)\n",
        "\n",
        "# Extract data\n",
        "x_train = mat['dataset']['train'][0][0]['images'][0][0]\n",
        "y_train = mat['dataset']['train'][0][0]['labels'][0][0].flatten()\n",
        "x_test = mat['dataset']['test'][0][0]['images'][0][0]\n",
        "y_test = mat['dataset']['test'][0][0]['labels'][0][0].flatten()"
      ],
      "metadata": {
        "id": "jPDLN_CfDCi1"
      },
      "execution_count": null,
      "outputs": []
    },
    {
      "cell_type": "code",
      "source": [
        "from tensorflow.keras.utils import to_categorical\n",
        "import numpy as np\n",
        "\n",
        "def preprocess_data(x, y, num_classes=47):\n",
        "    # Ensure x is normalized and reshaped\n",
        "    x = x.astype('float32') / 255.0\n",
        "    x = x.reshape(-1, 28, 28, 1)\n",
        "    # Ensure y is integer labels, then one-hot encode\n",
        "    y = y.astype('int32').flatten()  # Flatten to ensure 1D array of integers\n",
        "    y = to_categorical(y, num_classes)\n",
        "    return x, y  # Fixed typo\n",
        "\n",
        "# Assuming mat is loaded from earlier\n",
        "x_train = mat['dataset']['train'][0][0]['images'][0][0]\n",
        "y_train = mat['dataset']['train'][0][0]['labels'][0][0]\n",
        "x_test = mat['dataset']['test'][0][0]['images'][0][0]\n",
        "y_test = mat['dataset']['test'][0][0]['labels'][0][0]\n",
        "\n",
        "# Apply preprocessing\n",
        "x_train, y_train = preprocess_data(x_train, y_train)\n",
        "x_test, y_test = preprocess_data(x_test, y_test)\n",
        "\n",
        "# Create validation set\n",
        "from sklearn.model_selection import train_test_split\n",
        "x_train, x_val, y_train, y_val = train_test_split(\n",
        "    x_train, y_train, test_size=0.2, random_state=42\n",
        ")\n",
        "\n",
        "# Debug shapes and types\n",
        "print(f\"x_train dtype: {x_train.dtype}, shape: {x_train.shape}\")\n",
        "print(f\"y_train dtype: {y_train.dtype}, shape: {y_train.shape}\")\n",
        "print(f\"x_val dtype: {x_val.dtype}, shape: {x_val.shape}\")\n",
        "print(f\"y_val dtype: {y_val.dtype}, shape: {y_val.shape}\")\n",
        "print(f\"x_test dtype: {x_test.dtype}, shape: {x_test.shape}\")\n",
        "print(f\"y_test dtype: {y_test.dtype}, shape: {y_test.shape}\")"
      ],
      "metadata": {
        "id": "S37UwB_rXy6R",
        "colab": {
          "base_uri": "https://localhost:8080/"
        },
        "outputId": "6a4fe4bf-5152-4980-ee81-34eba5941d48"
      },
      "execution_count": null,
      "outputs": [
        {
          "output_type": "stream",
          "name": "stdout",
          "text": [
            "x_train dtype: float32, shape: (90240, 28, 28, 1)\n",
            "y_train dtype: float64, shape: (90240, 47)\n",
            "x_val dtype: float32, shape: (22560, 28, 28, 1)\n",
            "y_val dtype: float64, shape: (22560, 47)\n",
            "x_test dtype: float32, shape: (18800, 28, 28, 1)\n",
            "y_test dtype: float64, shape: (18800, 47)\n"
          ]
        }
      ]
    },
    {
      "cell_type": "code",
      "source": [
        "def build_model(num_classes=47):\n",
        "    model = models.Sequential([\n",
        "        layers.Conv2D(32, (3, 3), activation='relu', padding='same', input_shape=(28, 28, 1)),\n",
        "        layers.BatchNormalization(),\n",
        "        layers.Conv2D(32, (3, 3), activation='relu', padding='same'),\n",
        "        layers.BatchNormalization(),\n",
        "        layers.MaxPooling2D((2, 2)),\n",
        "        layers.Dropout(0.25),\n",
        "\n",
        "        layers.Conv2D(64, (3, 3), activation='relu', padding='same'),\n",
        "        layers.BatchNormalization(),\n",
        "        layers.Conv2D(64, (3, 3), activation='relu', padding='same'),\n",
        "        layers.BatchNormalization(),\n",
        "        layers.MaxPooling2D((2, 2)),\n",
        "        layers.Dropout(0.25),\n",
        "\n",
        "        layers.Flatten(),\n",
        "        layers.Dense(512, activation='relu'),\n",
        "        layers.BatchNormalization(),\n",
        "        layers.Dropout(0.5),\n",
        "        layers.Dense(num_classes, activation='softmax')\n",
        "    ])\n",
        "    return model\n",
        "\n",
        "# Initialize and compile\n",
        "model = build_model()\n",
        "model.compile(\n",
        "    optimizer='adam',\n",
        "    loss='categorical_crossentropy',\n",
        "    metrics=['accuracy']\n",
        ")\n",
        "\n",
        "model.summary()"
      ],
      "metadata": {
        "colab": {
          "base_uri": "https://localhost:8080/"
        },
        "id": "JRZ0gDJVZCIF",
        "outputId": "61c2a9f0-c234-4296-abed-21e3ecac1f54"
      },
      "execution_count": null,
      "outputs": [
        {
          "output_type": "stream",
          "name": "stderr",
          "text": [
            "/usr/local/lib/python3.11/dist-packages/keras/src/layers/convolutional/base_conv.py:107: UserWarning: Do not pass an `input_shape`/`input_dim` argument to a layer. When using Sequential models, prefer using an `Input(shape)` object as the first layer in the model instead.\n",
            "  super().__init__(activity_regularizer=activity_regularizer, **kwargs)\n"
          ]
        },
        {
          "output_type": "display_data",
          "data": {
            "text/plain": [
              "\u001b[1mModel: \"sequential\"\u001b[0m\n"
            ],
            "text/html": [
              "<pre style=\"white-space:pre;overflow-x:auto;line-height:normal;font-family:Menlo,'DejaVu Sans Mono',consolas,'Courier New',monospace\"><span style=\"font-weight: bold\">Model: \"sequential\"</span>\n",
              "</pre>\n"
            ]
          },
          "metadata": {}
        },
        {
          "output_type": "display_data",
          "data": {
            "text/plain": [
              "┏━━━━━━━━━━━━━━━━━━━━━━━━━━━━━━━━━┳━━━━━━━━━━━━━━━━━━━━━━━━┳━━━━━━━━━━━━━━━┓\n",
              "┃\u001b[1m \u001b[0m\u001b[1mLayer (type)                   \u001b[0m\u001b[1m \u001b[0m┃\u001b[1m \u001b[0m\u001b[1mOutput Shape          \u001b[0m\u001b[1m \u001b[0m┃\u001b[1m \u001b[0m\u001b[1m      Param #\u001b[0m\u001b[1m \u001b[0m┃\n",
              "┡━━━━━━━━━━━━━━━━━━━━━━━━━━━━━━━━━╇━━━━━━━━━━━━━━━━━━━━━━━━╇━━━━━━━━━━━━━━━┩\n",
              "│ conv2d (\u001b[38;5;33mConv2D\u001b[0m)                 │ (\u001b[38;5;45mNone\u001b[0m, \u001b[38;5;34m28\u001b[0m, \u001b[38;5;34m28\u001b[0m, \u001b[38;5;34m32\u001b[0m)     │           \u001b[38;5;34m320\u001b[0m │\n",
              "├─────────────────────────────────┼────────────────────────┼───────────────┤\n",
              "│ batch_normalization             │ (\u001b[38;5;45mNone\u001b[0m, \u001b[38;5;34m28\u001b[0m, \u001b[38;5;34m28\u001b[0m, \u001b[38;5;34m32\u001b[0m)     │           \u001b[38;5;34m128\u001b[0m │\n",
              "│ (\u001b[38;5;33mBatchNormalization\u001b[0m)            │                        │               │\n",
              "├─────────────────────────────────┼────────────────────────┼───────────────┤\n",
              "│ conv2d_1 (\u001b[38;5;33mConv2D\u001b[0m)               │ (\u001b[38;5;45mNone\u001b[0m, \u001b[38;5;34m28\u001b[0m, \u001b[38;5;34m28\u001b[0m, \u001b[38;5;34m32\u001b[0m)     │         \u001b[38;5;34m9,248\u001b[0m │\n",
              "├─────────────────────────────────┼────────────────────────┼───────────────┤\n",
              "│ batch_normalization_1           │ (\u001b[38;5;45mNone\u001b[0m, \u001b[38;5;34m28\u001b[0m, \u001b[38;5;34m28\u001b[0m, \u001b[38;5;34m32\u001b[0m)     │           \u001b[38;5;34m128\u001b[0m │\n",
              "│ (\u001b[38;5;33mBatchNormalization\u001b[0m)            │                        │               │\n",
              "├─────────────────────────────────┼────────────────────────┼───────────────┤\n",
              "│ max_pooling2d (\u001b[38;5;33mMaxPooling2D\u001b[0m)    │ (\u001b[38;5;45mNone\u001b[0m, \u001b[38;5;34m14\u001b[0m, \u001b[38;5;34m14\u001b[0m, \u001b[38;5;34m32\u001b[0m)     │             \u001b[38;5;34m0\u001b[0m │\n",
              "├─────────────────────────────────┼────────────────────────┼───────────────┤\n",
              "│ dropout (\u001b[38;5;33mDropout\u001b[0m)               │ (\u001b[38;5;45mNone\u001b[0m, \u001b[38;5;34m14\u001b[0m, \u001b[38;5;34m14\u001b[0m, \u001b[38;5;34m32\u001b[0m)     │             \u001b[38;5;34m0\u001b[0m │\n",
              "├─────────────────────────────────┼────────────────────────┼───────────────┤\n",
              "│ conv2d_2 (\u001b[38;5;33mConv2D\u001b[0m)               │ (\u001b[38;5;45mNone\u001b[0m, \u001b[38;5;34m14\u001b[0m, \u001b[38;5;34m14\u001b[0m, \u001b[38;5;34m64\u001b[0m)     │        \u001b[38;5;34m18,496\u001b[0m │\n",
              "├─────────────────────────────────┼────────────────────────┼───────────────┤\n",
              "│ batch_normalization_2           │ (\u001b[38;5;45mNone\u001b[0m, \u001b[38;5;34m14\u001b[0m, \u001b[38;5;34m14\u001b[0m, \u001b[38;5;34m64\u001b[0m)     │           \u001b[38;5;34m256\u001b[0m │\n",
              "│ (\u001b[38;5;33mBatchNormalization\u001b[0m)            │                        │               │\n",
              "├─────────────────────────────────┼────────────────────────┼───────────────┤\n",
              "│ conv2d_3 (\u001b[38;5;33mConv2D\u001b[0m)               │ (\u001b[38;5;45mNone\u001b[0m, \u001b[38;5;34m14\u001b[0m, \u001b[38;5;34m14\u001b[0m, \u001b[38;5;34m64\u001b[0m)     │        \u001b[38;5;34m36,928\u001b[0m │\n",
              "├─────────────────────────────────┼────────────────────────┼───────────────┤\n",
              "│ batch_normalization_3           │ (\u001b[38;5;45mNone\u001b[0m, \u001b[38;5;34m14\u001b[0m, \u001b[38;5;34m14\u001b[0m, \u001b[38;5;34m64\u001b[0m)     │           \u001b[38;5;34m256\u001b[0m │\n",
              "│ (\u001b[38;5;33mBatchNormalization\u001b[0m)            │                        │               │\n",
              "├─────────────────────────────────┼────────────────────────┼───────────────┤\n",
              "│ max_pooling2d_1 (\u001b[38;5;33mMaxPooling2D\u001b[0m)  │ (\u001b[38;5;45mNone\u001b[0m, \u001b[38;5;34m7\u001b[0m, \u001b[38;5;34m7\u001b[0m, \u001b[38;5;34m64\u001b[0m)       │             \u001b[38;5;34m0\u001b[0m │\n",
              "├─────────────────────────────────┼────────────────────────┼───────────────┤\n",
              "│ dropout_1 (\u001b[38;5;33mDropout\u001b[0m)             │ (\u001b[38;5;45mNone\u001b[0m, \u001b[38;5;34m7\u001b[0m, \u001b[38;5;34m7\u001b[0m, \u001b[38;5;34m64\u001b[0m)       │             \u001b[38;5;34m0\u001b[0m │\n",
              "├─────────────────────────────────┼────────────────────────┼───────────────┤\n",
              "│ flatten (\u001b[38;5;33mFlatten\u001b[0m)               │ (\u001b[38;5;45mNone\u001b[0m, \u001b[38;5;34m3136\u001b[0m)           │             \u001b[38;5;34m0\u001b[0m │\n",
              "├─────────────────────────────────┼────────────────────────┼───────────────┤\n",
              "│ dense (\u001b[38;5;33mDense\u001b[0m)                   │ (\u001b[38;5;45mNone\u001b[0m, \u001b[38;5;34m512\u001b[0m)            │     \u001b[38;5;34m1,606,144\u001b[0m │\n",
              "├─────────────────────────────────┼────────────────────────┼───────────────┤\n",
              "│ batch_normalization_4           │ (\u001b[38;5;45mNone\u001b[0m, \u001b[38;5;34m512\u001b[0m)            │         \u001b[38;5;34m2,048\u001b[0m │\n",
              "│ (\u001b[38;5;33mBatchNormalization\u001b[0m)            │                        │               │\n",
              "├─────────────────────────────────┼────────────────────────┼───────────────┤\n",
              "│ dropout_2 (\u001b[38;5;33mDropout\u001b[0m)             │ (\u001b[38;5;45mNone\u001b[0m, \u001b[38;5;34m512\u001b[0m)            │             \u001b[38;5;34m0\u001b[0m │\n",
              "├─────────────────────────────────┼────────────────────────┼───────────────┤\n",
              "│ dense_1 (\u001b[38;5;33mDense\u001b[0m)                 │ (\u001b[38;5;45mNone\u001b[0m, \u001b[38;5;34m47\u001b[0m)             │        \u001b[38;5;34m24,111\u001b[0m │\n",
              "└─────────────────────────────────┴────────────────────────┴───────────────┘\n"
            ],
            "text/html": [
              "<pre style=\"white-space:pre;overflow-x:auto;line-height:normal;font-family:Menlo,'DejaVu Sans Mono',consolas,'Courier New',monospace\">┏━━━━━━━━━━━━━━━━━━━━━━━━━━━━━━━━━┳━━━━━━━━━━━━━━━━━━━━━━━━┳━━━━━━━━━━━━━━━┓\n",
              "┃<span style=\"font-weight: bold\"> Layer (type)                    </span>┃<span style=\"font-weight: bold\"> Output Shape           </span>┃<span style=\"font-weight: bold\">       Param # </span>┃\n",
              "┡━━━━━━━━━━━━━━━━━━━━━━━━━━━━━━━━━╇━━━━━━━━━━━━━━━━━━━━━━━━╇━━━━━━━━━━━━━━━┩\n",
              "│ conv2d (<span style=\"color: #0087ff; text-decoration-color: #0087ff\">Conv2D</span>)                 │ (<span style=\"color: #00d7ff; text-decoration-color: #00d7ff\">None</span>, <span style=\"color: #00af00; text-decoration-color: #00af00\">28</span>, <span style=\"color: #00af00; text-decoration-color: #00af00\">28</span>, <span style=\"color: #00af00; text-decoration-color: #00af00\">32</span>)     │           <span style=\"color: #00af00; text-decoration-color: #00af00\">320</span> │\n",
              "├─────────────────────────────────┼────────────────────────┼───────────────┤\n",
              "│ batch_normalization             │ (<span style=\"color: #00d7ff; text-decoration-color: #00d7ff\">None</span>, <span style=\"color: #00af00; text-decoration-color: #00af00\">28</span>, <span style=\"color: #00af00; text-decoration-color: #00af00\">28</span>, <span style=\"color: #00af00; text-decoration-color: #00af00\">32</span>)     │           <span style=\"color: #00af00; text-decoration-color: #00af00\">128</span> │\n",
              "│ (<span style=\"color: #0087ff; text-decoration-color: #0087ff\">BatchNormalization</span>)            │                        │               │\n",
              "├─────────────────────────────────┼────────────────────────┼───────────────┤\n",
              "│ conv2d_1 (<span style=\"color: #0087ff; text-decoration-color: #0087ff\">Conv2D</span>)               │ (<span style=\"color: #00d7ff; text-decoration-color: #00d7ff\">None</span>, <span style=\"color: #00af00; text-decoration-color: #00af00\">28</span>, <span style=\"color: #00af00; text-decoration-color: #00af00\">28</span>, <span style=\"color: #00af00; text-decoration-color: #00af00\">32</span>)     │         <span style=\"color: #00af00; text-decoration-color: #00af00\">9,248</span> │\n",
              "├─────────────────────────────────┼────────────────────────┼───────────────┤\n",
              "│ batch_normalization_1           │ (<span style=\"color: #00d7ff; text-decoration-color: #00d7ff\">None</span>, <span style=\"color: #00af00; text-decoration-color: #00af00\">28</span>, <span style=\"color: #00af00; text-decoration-color: #00af00\">28</span>, <span style=\"color: #00af00; text-decoration-color: #00af00\">32</span>)     │           <span style=\"color: #00af00; text-decoration-color: #00af00\">128</span> │\n",
              "│ (<span style=\"color: #0087ff; text-decoration-color: #0087ff\">BatchNormalization</span>)            │                        │               │\n",
              "├─────────────────────────────────┼────────────────────────┼───────────────┤\n",
              "│ max_pooling2d (<span style=\"color: #0087ff; text-decoration-color: #0087ff\">MaxPooling2D</span>)    │ (<span style=\"color: #00d7ff; text-decoration-color: #00d7ff\">None</span>, <span style=\"color: #00af00; text-decoration-color: #00af00\">14</span>, <span style=\"color: #00af00; text-decoration-color: #00af00\">14</span>, <span style=\"color: #00af00; text-decoration-color: #00af00\">32</span>)     │             <span style=\"color: #00af00; text-decoration-color: #00af00\">0</span> │\n",
              "├─────────────────────────────────┼────────────────────────┼───────────────┤\n",
              "│ dropout (<span style=\"color: #0087ff; text-decoration-color: #0087ff\">Dropout</span>)               │ (<span style=\"color: #00d7ff; text-decoration-color: #00d7ff\">None</span>, <span style=\"color: #00af00; text-decoration-color: #00af00\">14</span>, <span style=\"color: #00af00; text-decoration-color: #00af00\">14</span>, <span style=\"color: #00af00; text-decoration-color: #00af00\">32</span>)     │             <span style=\"color: #00af00; text-decoration-color: #00af00\">0</span> │\n",
              "├─────────────────────────────────┼────────────────────────┼───────────────┤\n",
              "│ conv2d_2 (<span style=\"color: #0087ff; text-decoration-color: #0087ff\">Conv2D</span>)               │ (<span style=\"color: #00d7ff; text-decoration-color: #00d7ff\">None</span>, <span style=\"color: #00af00; text-decoration-color: #00af00\">14</span>, <span style=\"color: #00af00; text-decoration-color: #00af00\">14</span>, <span style=\"color: #00af00; text-decoration-color: #00af00\">64</span>)     │        <span style=\"color: #00af00; text-decoration-color: #00af00\">18,496</span> │\n",
              "├─────────────────────────────────┼────────────────────────┼───────────────┤\n",
              "│ batch_normalization_2           │ (<span style=\"color: #00d7ff; text-decoration-color: #00d7ff\">None</span>, <span style=\"color: #00af00; text-decoration-color: #00af00\">14</span>, <span style=\"color: #00af00; text-decoration-color: #00af00\">14</span>, <span style=\"color: #00af00; text-decoration-color: #00af00\">64</span>)     │           <span style=\"color: #00af00; text-decoration-color: #00af00\">256</span> │\n",
              "│ (<span style=\"color: #0087ff; text-decoration-color: #0087ff\">BatchNormalization</span>)            │                        │               │\n",
              "├─────────────────────────────────┼────────────────────────┼───────────────┤\n",
              "│ conv2d_3 (<span style=\"color: #0087ff; text-decoration-color: #0087ff\">Conv2D</span>)               │ (<span style=\"color: #00d7ff; text-decoration-color: #00d7ff\">None</span>, <span style=\"color: #00af00; text-decoration-color: #00af00\">14</span>, <span style=\"color: #00af00; text-decoration-color: #00af00\">14</span>, <span style=\"color: #00af00; text-decoration-color: #00af00\">64</span>)     │        <span style=\"color: #00af00; text-decoration-color: #00af00\">36,928</span> │\n",
              "├─────────────────────────────────┼────────────────────────┼───────────────┤\n",
              "│ batch_normalization_3           │ (<span style=\"color: #00d7ff; text-decoration-color: #00d7ff\">None</span>, <span style=\"color: #00af00; text-decoration-color: #00af00\">14</span>, <span style=\"color: #00af00; text-decoration-color: #00af00\">14</span>, <span style=\"color: #00af00; text-decoration-color: #00af00\">64</span>)     │           <span style=\"color: #00af00; text-decoration-color: #00af00\">256</span> │\n",
              "│ (<span style=\"color: #0087ff; text-decoration-color: #0087ff\">BatchNormalization</span>)            │                        │               │\n",
              "├─────────────────────────────────┼────────────────────────┼───────────────┤\n",
              "│ max_pooling2d_1 (<span style=\"color: #0087ff; text-decoration-color: #0087ff\">MaxPooling2D</span>)  │ (<span style=\"color: #00d7ff; text-decoration-color: #00d7ff\">None</span>, <span style=\"color: #00af00; text-decoration-color: #00af00\">7</span>, <span style=\"color: #00af00; text-decoration-color: #00af00\">7</span>, <span style=\"color: #00af00; text-decoration-color: #00af00\">64</span>)       │             <span style=\"color: #00af00; text-decoration-color: #00af00\">0</span> │\n",
              "├─────────────────────────────────┼────────────────────────┼───────────────┤\n",
              "│ dropout_1 (<span style=\"color: #0087ff; text-decoration-color: #0087ff\">Dropout</span>)             │ (<span style=\"color: #00d7ff; text-decoration-color: #00d7ff\">None</span>, <span style=\"color: #00af00; text-decoration-color: #00af00\">7</span>, <span style=\"color: #00af00; text-decoration-color: #00af00\">7</span>, <span style=\"color: #00af00; text-decoration-color: #00af00\">64</span>)       │             <span style=\"color: #00af00; text-decoration-color: #00af00\">0</span> │\n",
              "├─────────────────────────────────┼────────────────────────┼───────────────┤\n",
              "│ flatten (<span style=\"color: #0087ff; text-decoration-color: #0087ff\">Flatten</span>)               │ (<span style=\"color: #00d7ff; text-decoration-color: #00d7ff\">None</span>, <span style=\"color: #00af00; text-decoration-color: #00af00\">3136</span>)           │             <span style=\"color: #00af00; text-decoration-color: #00af00\">0</span> │\n",
              "├─────────────────────────────────┼────────────────────────┼───────────────┤\n",
              "│ dense (<span style=\"color: #0087ff; text-decoration-color: #0087ff\">Dense</span>)                   │ (<span style=\"color: #00d7ff; text-decoration-color: #00d7ff\">None</span>, <span style=\"color: #00af00; text-decoration-color: #00af00\">512</span>)            │     <span style=\"color: #00af00; text-decoration-color: #00af00\">1,606,144</span> │\n",
              "├─────────────────────────────────┼────────────────────────┼───────────────┤\n",
              "│ batch_normalization_4           │ (<span style=\"color: #00d7ff; text-decoration-color: #00d7ff\">None</span>, <span style=\"color: #00af00; text-decoration-color: #00af00\">512</span>)            │         <span style=\"color: #00af00; text-decoration-color: #00af00\">2,048</span> │\n",
              "│ (<span style=\"color: #0087ff; text-decoration-color: #0087ff\">BatchNormalization</span>)            │                        │               │\n",
              "├─────────────────────────────────┼────────────────────────┼───────────────┤\n",
              "│ dropout_2 (<span style=\"color: #0087ff; text-decoration-color: #0087ff\">Dropout</span>)             │ (<span style=\"color: #00d7ff; text-decoration-color: #00d7ff\">None</span>, <span style=\"color: #00af00; text-decoration-color: #00af00\">512</span>)            │             <span style=\"color: #00af00; text-decoration-color: #00af00\">0</span> │\n",
              "├─────────────────────────────────┼────────────────────────┼───────────────┤\n",
              "│ dense_1 (<span style=\"color: #0087ff; text-decoration-color: #0087ff\">Dense</span>)                 │ (<span style=\"color: #00d7ff; text-decoration-color: #00d7ff\">None</span>, <span style=\"color: #00af00; text-decoration-color: #00af00\">47</span>)             │        <span style=\"color: #00af00; text-decoration-color: #00af00\">24,111</span> │\n",
              "└─────────────────────────────────┴────────────────────────┴───────────────┘\n",
              "</pre>\n"
            ]
          },
          "metadata": {}
        },
        {
          "output_type": "display_data",
          "data": {
            "text/plain": [
              "\u001b[1m Total params: \u001b[0m\u001b[38;5;34m1,698,063\u001b[0m (6.48 MB)\n"
            ],
            "text/html": [
              "<pre style=\"white-space:pre;overflow-x:auto;line-height:normal;font-family:Menlo,'DejaVu Sans Mono',consolas,'Courier New',monospace\"><span style=\"font-weight: bold\"> Total params: </span><span style=\"color: #00af00; text-decoration-color: #00af00\">1,698,063</span> (6.48 MB)\n",
              "</pre>\n"
            ]
          },
          "metadata": {}
        },
        {
          "output_type": "display_data",
          "data": {
            "text/plain": [
              "\u001b[1m Trainable params: \u001b[0m\u001b[38;5;34m1,696,655\u001b[0m (6.47 MB)\n"
            ],
            "text/html": [
              "<pre style=\"white-space:pre;overflow-x:auto;line-height:normal;font-family:Menlo,'DejaVu Sans Mono',consolas,'Courier New',monospace\"><span style=\"font-weight: bold\"> Trainable params: </span><span style=\"color: #00af00; text-decoration-color: #00af00\">1,696,655</span> (6.47 MB)\n",
              "</pre>\n"
            ]
          },
          "metadata": {}
        },
        {
          "output_type": "display_data",
          "data": {
            "text/plain": [
              "\u001b[1m Non-trainable params: \u001b[0m\u001b[38;5;34m1,408\u001b[0m (5.50 KB)\n"
            ],
            "text/html": [
              "<pre style=\"white-space:pre;overflow-x:auto;line-height:normal;font-family:Menlo,'DejaVu Sans Mono',consolas,'Courier New',monospace\"><span style=\"font-weight: bold\"> Non-trainable params: </span><span style=\"color: #00af00; text-decoration-color: #00af00\">1,408</span> (5.50 KB)\n",
              "</pre>\n"
            ]
          },
          "metadata": {}
        }
      ]
    },
    {
      "cell_type": "markdown",
      "source": [
        " # Debug initial types\n",
        "    tf.print(\"Initial image dtype:\", image.dtype, \"shape:\", tf.shape(image))\n",
        "    tf.print(\"Initial label dtype:\", label.dtype, \"shape:\", tf.shape(label))\n",
        "    \n",
        "    tf.print(\"After rotation image dtype:\", image.dtype, \"shape:\", tf.shape(image))\n",
        "    "
      ],
      "metadata": {
        "id": "yf8x3e37TSZf"
      }
    },
    {
      "cell_type": "code",
      "source": [
        "import tensorflow as tf\n",
        "\n",
        "# Define data augmentation function for tf.data\n",
        "def augment_image(image, label):\n",
        "    # Ensure types\n",
        "    image = tf.cast(image, tf.float32)\n",
        "    label = tf.cast(label, tf.float32)\n",
        "\n",
        "\n",
        "\n",
        "    # Random flip\n",
        "    image = tf.image.random_flip_left_right(image)\n",
        "\n",
        "    # Random brightness and contrast\n",
        "    image = tf.image.random_brightness(image, max_delta=0.1)\n",
        "    image = tf.image.random_contrast(image, lower=0.8, upper=1.2)\n",
        "\n",
        "    # Random rotation (discrete steps)\n",
        "    k = tf.random.uniform([], 0, 4, dtype=tf.int32)\n",
        "    image = tf.image.rot90(image, k=k)\n",
        "\n",
        "    # Skip zoom to avoid Mul op issue\n",
        "    return image, label\n",
        "\n",
        "# Create tf.data datasets\n",
        "batch_size = 128\n",
        "\n",
        "# Ensure input data types\n",
        "x_train = tf.cast(x_train, tf.float32)\n",
        "y_train = tf.cast(y_train, tf.float32)\n",
        "x_val = tf.cast(x_val, tf.float32)\n",
        "y_val = tf.cast(y_val, tf.float32)\n",
        "\n",
        "# Debug input types\n",
        "print(f\"x_train dtype: {x_train.dtype}, shape: {x_train.shape}\")\n",
        "print(f\"y_train dtype: {y_train.dtype}, shape: {y_train.shape}\")\n",
        "print(f\"x_val dtype: {x_val.dtype}, shape: {x_val.shape}\")\n",
        "print(f\"y_val dtype: {y_val.dtype}, shape: {y_val.shape}\")\n",
        "\n",
        "train_dataset = tf.data.Dataset.from_tensor_slices((x_train, y_train))\n",
        "train_dataset = (train_dataset\n",
        "                 .shuffle(buffer_size=10000)\n",
        "                 .map(augment_image, num_parallel_calls=tf.data.AUTOTUNE)\n",
        "                 .batch(batch_size)\n",
        "                 .prefetch(tf.data.AUTOTUNE))\n",
        "\n",
        "val_dataset = tf.data.Dataset.from_tensor_slices((x_val, y_val))\n",
        "val_dataset = val_dataset.batch(batch_size).prefetch(tf.data.AUTOTUNE)\n",
        "\n",
        "# Debug dataset output\n",
        "for batch_x, batch_y in train_dataset.take(1):\n",
        "    print(f\"Batch x dtype: {batch_x.dtype}, shape: {batch_x.shape}\")\n",
        "    print(f\"Batch y dtype: {batch_y.dtype}, shape: {batch_y.shape}\")\n",
        "\n",
        "# Callbacks\n",
        "lr_scheduler = tf.keras.callbacks.ReduceLROnPlateau(\n",
        "    monitor='val_loss', factor=0.5, patience=3, min_lr=1e-6\n",
        ")\n",
        "early_stopping = tf.keras.callbacks.EarlyStopping(\n",
        "    monitor='val_loss', patience=5, restore_best_weights=True\n",
        ")\n",
        "\n",
        "# Train\n",
        "epochs = 20\n",
        "\n",
        "history = model.fit(\n",
        "    train_dataset,\n",
        "    validation_data=val_dataset,\n",
        "    epochs=epochs,\n",
        "    callbacks=[lr_scheduler, early_stopping],\n",
        "    verbose=1\n",
        ")\n",
        "\n",
        "# Evaluate on test set\n",
        "test_loss, test_accuracy = model.evaluate(x_test, y_test)\n",
        "print(f\"Test accuracy: {test_accuracy:.4f}\")\n"
      ],
      "metadata": {
        "colab": {
          "base_uri": "https://localhost:8080/"
        },
        "id": "5Lmfm5CDZKrX",
        "outputId": "050cdfca-69b0-4d34-fc91-69a1b024df8c"
      },
      "execution_count": 5,
      "outputs": [
        {
          "output_type": "stream",
          "name": "stdout",
          "text": [
            "x_train dtype: <dtype: 'float32'>, shape: (90240, 28, 28, 1)\n",
            "y_train dtype: <dtype: 'float32'>, shape: (90240, 47)\n",
            "x_val dtype: <dtype: 'float32'>, shape: (22560, 28, 28, 1)\n",
            "y_val dtype: <dtype: 'float32'>, shape: (22560, 47)\n",
            "Batch x dtype: <dtype: 'float32'>, shape: (128, 28, 28, 1)\n",
            "Batch y dtype: <dtype: 'float32'>, shape: (128, 47)\n",
            "Epoch 1/20\n",
            "\u001b[1m705/705\u001b[0m \u001b[32m━━━━━━━━━━━━━━━━━━━━\u001b[0m\u001b[37m\u001b[0m \u001b[1m659s\u001b[0m 916ms/step - accuracy: 0.2437 - loss: 3.0326 - val_accuracy: 0.5648 - val_loss: 1.4365 - learning_rate: 0.0010\n",
            "Epoch 2/20\n",
            "\u001b[1m705/705\u001b[0m \u001b[32m━━━━━━━━━━━━━━━━━━━━\u001b[0m\u001b[37m\u001b[0m \u001b[1m633s\u001b[0m 898ms/step - accuracy: 0.5521 - loss: 1.4508 - val_accuracy: 0.6744 - val_loss: 1.0129 - learning_rate: 0.0010\n",
            "Epoch 3/20\n",
            "\u001b[1m705/705\u001b[0m \u001b[32m━━━━━━━━━━━━━━━━━━━━\u001b[0m\u001b[37m\u001b[0m \u001b[1m615s\u001b[0m 873ms/step - accuracy: 0.6149 - loss: 1.2122 - val_accuracy: 0.6823 - val_loss: 0.9731 - learning_rate: 0.0010\n",
            "Epoch 4/20\n",
            "\u001b[1m705/705\u001b[0m \u001b[32m━━━━━━━━━━━━━━━━━━━━\u001b[0m\u001b[37m\u001b[0m \u001b[1m622s\u001b[0m 883ms/step - accuracy: 0.6471 - loss: 1.1028 - val_accuracy: 0.7184 - val_loss: 0.8630 - learning_rate: 0.0010\n",
            "Epoch 5/20\n",
            "\u001b[1m705/705\u001b[0m \u001b[32m━━━━━━━━━━━━━━━━━━━━\u001b[0m\u001b[37m\u001b[0m \u001b[1m657s\u001b[0m 847ms/step - accuracy: 0.6665 - loss: 1.0373 - val_accuracy: 0.7249 - val_loss: 0.8237 - learning_rate: 0.0010\n",
            "Epoch 6/20\n",
            "\u001b[1m705/705\u001b[0m \u001b[32m━━━━━━━━━━━━━━━━━━━━\u001b[0m\u001b[37m\u001b[0m \u001b[1m647s\u001b[0m 884ms/step - accuracy: 0.6743 - loss: 1.0031 - val_accuracy: 0.7352 - val_loss: 0.8016 - learning_rate: 0.0010\n",
            "Epoch 7/20\n",
            "\u001b[1m705/705\u001b[0m \u001b[32m━━━━━━━━━━━━━━━━━━━━\u001b[0m\u001b[37m\u001b[0m \u001b[1m603s\u001b[0m 855ms/step - accuracy: 0.6872 - loss: 0.9642 - val_accuracy: 0.7273 - val_loss: 0.8007 - learning_rate: 0.0010\n",
            "Epoch 8/20\n",
            "\u001b[1m705/705\u001b[0m \u001b[32m━━━━━━━━━━━━━━━━━━━━\u001b[0m\u001b[37m\u001b[0m \u001b[1m598s\u001b[0m 848ms/step - accuracy: 0.6940 - loss: 0.9358 - val_accuracy: 0.7440 - val_loss: 0.7605 - learning_rate: 0.0010\n",
            "Epoch 9/20\n",
            "\u001b[1m705/705\u001b[0m \u001b[32m━━━━━━━━━━━━━━━━━━━━\u001b[0m\u001b[37m\u001b[0m \u001b[1m657s\u001b[0m 899ms/step - accuracy: 0.6989 - loss: 0.9162 - val_accuracy: 0.7565 - val_loss: 0.7171 - learning_rate: 0.0010\n",
            "Epoch 10/20\n",
            "\u001b[1m705/705\u001b[0m \u001b[32m━━━━━━━━━━━━━━━━━━━━\u001b[0m\u001b[37m\u001b[0m \u001b[1m652s\u001b[0m 856ms/step - accuracy: 0.7065 - loss: 0.8917 - val_accuracy: 0.7455 - val_loss: 0.7458 - learning_rate: 0.0010\n",
            "Epoch 11/20\n",
            "\u001b[1m705/705\u001b[0m \u001b[32m━━━━━━━━━━━━━━━━━━━━\u001b[0m\u001b[37m\u001b[0m \u001b[1m603s\u001b[0m 856ms/step - accuracy: 0.7102 - loss: 0.8741 - val_accuracy: 0.7648 - val_loss: 0.7001 - learning_rate: 0.0010\n",
            "Epoch 12/20\n",
            "\u001b[1m705/705\u001b[0m \u001b[32m━━━━━━━━━━━━━━━━━━━━\u001b[0m\u001b[37m\u001b[0m \u001b[1m598s\u001b[0m 848ms/step - accuracy: 0.7117 - loss: 0.8644 - val_accuracy: 0.7604 - val_loss: 0.7000 - learning_rate: 0.0010\n",
            "Epoch 13/20\n",
            "\u001b[1m705/705\u001b[0m \u001b[32m━━━━━━━━━━━━━━━━━━━━\u001b[0m\u001b[37m\u001b[0m \u001b[1m645s\u001b[0m 880ms/step - accuracy: 0.7186 - loss: 0.8495 - val_accuracy: 0.7533 - val_loss: 0.7331 - learning_rate: 0.0010\n",
            "Epoch 14/20\n",
            "\u001b[1m705/705\u001b[0m \u001b[32m━━━━━━━━━━━━━━━━━━━━\u001b[0m\u001b[37m\u001b[0m \u001b[1m597s\u001b[0m 847ms/step - accuracy: 0.7257 - loss: 0.8364 - val_accuracy: 0.7621 - val_loss: 0.7037 - learning_rate: 0.0010\n",
            "Epoch 15/20\n",
            "\u001b[1m705/705\u001b[0m \u001b[32m━━━━━━━━━━━━━━━━━━━━\u001b[0m\u001b[37m\u001b[0m \u001b[1m620s\u001b[0m 845ms/step - accuracy: 0.7252 - loss: 0.8275 - val_accuracy: 0.7761 - val_loss: 0.6718 - learning_rate: 0.0010\n",
            "Epoch 16/20\n",
            "\u001b[1m705/705\u001b[0m \u001b[32m━━━━━━━━━━━━━━━━━━━━\u001b[0m\u001b[37m\u001b[0m \u001b[1m596s\u001b[0m 846ms/step - accuracy: 0.7282 - loss: 0.8189 - val_accuracy: 0.7601 - val_loss: 0.6968 - learning_rate: 0.0010\n",
            "Epoch 17/20\n",
            "\u001b[1m705/705\u001b[0m \u001b[32m━━━━━━━━━━━━━━━━━━━━\u001b[0m\u001b[37m\u001b[0m \u001b[1m622s\u001b[0m 847ms/step - accuracy: 0.7315 - loss: 0.8125 - val_accuracy: 0.7680 - val_loss: 0.6811 - learning_rate: 0.0010\n",
            "Epoch 18/20\n",
            "\u001b[1m705/705\u001b[0m \u001b[32m━━━━━━━━━━━━━━━━━━━━\u001b[0m\u001b[37m\u001b[0m \u001b[1m635s\u001b[0m 865ms/step - accuracy: 0.7333 - loss: 0.8004 - val_accuracy: 0.7687 - val_loss: 0.6714 - learning_rate: 0.0010\n",
            "Epoch 19/20\n",
            "\u001b[1m705/705\u001b[0m \u001b[32m━━━━━━━━━━━━━━━━━━━━\u001b[0m\u001b[37m\u001b[0m \u001b[1m608s\u001b[0m 863ms/step - accuracy: 0.7358 - loss: 0.7926 - val_accuracy: 0.7787 - val_loss: 0.6556 - learning_rate: 0.0010\n",
            "Epoch 20/20\n",
            "\u001b[1m705/705\u001b[0m \u001b[32m━━━━━━━━━━━━━━━━━━━━\u001b[0m\u001b[37m\u001b[0m \u001b[1m593s\u001b[0m 842ms/step - accuracy: 0.7359 - loss: 0.7947 - val_accuracy: 0.7700 - val_loss: 0.6730 - learning_rate: 0.0010\n",
            "\u001b[1m588/588\u001b[0m \u001b[32m━━━━━━━━━━━━━━━━━━━━\u001b[0m\u001b[37m\u001b[0m \u001b[1m28s\u001b[0m 48ms/step - accuracy: 0.7749 - loss: 0.6786\n",
            "Test accuracy: 0.7772\n"
          ]
        }
      ]
    },
    {
      "cell_type": "code",
      "source": [
        "#saving the model\n",
        "model.save('/content/drive/MyDrive/emnist_cnn_optimized.keras')\n"
      ],
      "metadata": {
        "id": "NAJtuny9Zcdd"
      },
      "execution_count": 6,
      "outputs": []
    },
    {
      "cell_type": "code",
      "source": [
        "def stroke_to_image_with_pressure(strokes, canvas_size=128, image_size=28,\n",
        "                                  min_width=1, max_width=6, background=255):\n",
        "    \"\"\"\n",
        "    Convert strokes with pressure data to an EMNIST-compatible image.\n",
        "\n",
        "    Args:\n",
        "        strokes: List of (x, y, pressure) points or list of strokes\n",
        "        canvas_size: Initial canvas size for precision\n",
        "        image_size: Final size (28 for EMNIST)\n",
        "        min_width: Minimum stroke width\n",
        "        max_width: Maximum stroke width\n",
        "        background: Background color (255 for white)\n",
        "\n",
        "    Returns:\n",
        "        img_array: Processed array for model (1, 28, 28, 1)\n",
        "        img: PIL Image for visualization\n",
        "    \"\"\"\n",
        "    img = Image.new(\"L\", (canvas_size, canvas_size), color=background)\n",
        "    draw = ImageDraw.Draw(img)\n",
        "\n",
        "    # Handle single stroke or multiple strokes\n",
        "    if not isinstance(strokes[0][0], (list, tuple)):\n",
        "        strokes = [strokes]\n",
        "\n",
        "    # Get bounding box\n",
        "    all_points = [(p[0], p[1]) for stroke in strokes for p in stroke]\n",
        "    if not all_points:\n",
        "        min_x, max_x, min_y, max_y = 0, 100, 0, 100\n",
        "    else:\n",
        "        min_x, max_x = min(p[0] for p in all_points), max(p[0] for p in all_points)\n",
        "        min_y, max_y = min(p[1] for p in all_points), max(p[1] for p in all_points)\n",
        "        width = max_x - min_x\n",
        "        height = max_y - min_y\n",
        "        padding = max(width, height) * 0.2\n",
        "        min_x -= padding\n",
        "        max_x += padding\n",
        "        min_y -= padding\n",
        "        max_y += padding\n",
        "\n",
        "    # Draw strokes\n",
        "    for stroke in strokes:\n",
        "        for i in range(len(stroke) - 1):\n",
        "            x1, y1, p1 = stroke[i]\n",
        "            x2, y2, p2 = stroke[i + 1]\n",
        "            # Scale coordinates\n",
        "            x1_scaled = (x1 - min_x) / (max_x - min_x) * canvas_size\n",
        "            y1_scaled = (y1 - min_y) / (max_y - min_y) * canvas_size\n",
        "            x2_scaled = (x2 - min_x) / (max_x - min_x) * canvas_size\n",
        "            y2_scaled = (y2 - min_y) / (max_y - min_y) * canvas_size\n",
        "            # Calculate width based on pressure\n",
        "            avg_pressure = (p1 + p2) / 2\n",
        "            width = int(min_width + (max_width - min_width) * avg_pressure)\n",
        "            draw.line([(x1_scaled, y1_scaled), (x2_scaled, y2_scaled)], fill=0, width=width)\n",
        "\n",
        "    # Resize and preprocess\n",
        "    img_array = np.array(img.resize((image_size, image_size), Image.LANCZOS))\n",
        "\n",
        "    # Apply adaptive thresholding to clean image\n",
        "    img_array = cv2.adaptiveThreshold(\n",
        "        img_array, 255, cv2.ADAPTIVE_THRESH_GAUSSIAN_C, cv2.THRESH_BINARY, 11, 2\n",
        "    )\n",
        "\n",
        "    # Invert to match EMNIST (white characters, black background)\n",
        "    img_array = 255 - img_array\n",
        "    img_array = img_array.astype('float32') / 255.0\n",
        "    img_array = img_array.reshape(1, image_size, image_size, 1)\n",
        "\n",
        "    return img_array, img.resize((image_size, image_size), Image.LANCZOS)\n"
      ],
      "metadata": {
        "id": "xcNtcu3AB1Jy"
      },
      "execution_count": 7,
      "outputs": []
    },
    {
      "cell_type": "code",
      "source": [
        "from tensorflow.keras.models import load_model\n",
        "# Load model\n",
        "model = load_model('/content/drive/MyDrive/emnist_cnn_optimized.keras')\n",
        "\n",
        "# Sample stroke data\n",
        "sample_strokes = [[[12, 6, 0.4], [9, 5, 0.5], [6, 8, 0.6], [6, 12, 0.6], [9, 15, 0.5], [12, 14, 0.4]]]\n",
        "\n",
        "# Convert strokes to image\n",
        "img_array, img = stroke_to_image_with_pressure(sample_strokes)\n",
        "\n",
        "# Predict\n",
        "prediction = model.predict(img_array)\n",
        "predicted_class = np.argmax(prediction[0])\n",
        "confidence = prediction[0][predicted_class]\n",
        "\n",
        "# EMNIST-balanced mapping\n",
        "balanced_chars = \"0123456789ABCDEFGHIJKLMNOPQRSTUVWXYZabcdefghijklmnopqrstuvwxyz\"\n",
        "char = balanced_chars[predicted_class] if predicted_class < len(balanced_chars) else \"?\"\n",
        "\n",
        "# Display results\n",
        "plt.figure(figsize=(4, 4))\n",
        "plt.imshow(img_array.reshape(28, 28), cmap='gray')\n",
        "plt.title(f\"Predicted: {char} (Confidence: {confidence:.4f})\")\n",
        "plt.axis('off')\n",
        "plt.show()\n",
        "\n",
        "print(f\"Predicted character: {char} (Class: {predicted_class}, Confidence: {confidence:.4f})\")\n",
        "\n",
        "# Top 3 predictions\n",
        "top_3_indices = np.argsort(prediction[0])[-3:][::-1]\n",
        "print(\"\\nTop 3 predictions:\")\n",
        "for idx in top_3_indices:\n",
        "    conf = prediction[0][idx]\n",
        "    c = balanced_chars[idx] if idx < len(balanced_chars) else \"?\"\n",
        "    print(f\"  {c}: {conf:.4f}\")\n"
      ],
      "metadata": {
        "colab": {
          "base_uri": "https://localhost:8080/",
          "height": 533
        },
        "id": "1GhIdzXud7mS",
        "outputId": "3ce438fe-fbf4-4344-f134-1d12737efb67"
      },
      "execution_count": 15,
      "outputs": [
        {
          "output_type": "stream",
          "name": "stderr",
          "text": [
            "WARNING:tensorflow:5 out of the last 5 calls to <function TensorFlowTrainer.make_predict_function.<locals>.one_step_on_data_distributed at 0x79a76afae700> triggered tf.function retracing. Tracing is expensive and the excessive number of tracings could be due to (1) creating @tf.function repeatedly in a loop, (2) passing tensors with different shapes, (3) passing Python objects instead of tensors. For (1), please define your @tf.function outside of the loop. For (2), @tf.function has reduce_retracing=True option that can avoid unnecessary retracing. For (3), please refer to https://www.tensorflow.org/guide/function#controlling_retracing and https://www.tensorflow.org/api_docs/python/tf/function for  more details.\n"
          ]
        },
        {
          "output_type": "stream",
          "name": "stdout",
          "text": [
            "\u001b[1m1/1\u001b[0m \u001b[32m━━━━━━━━━━━━━━━━━━━━\u001b[0m\u001b[37m\u001b[0m \u001b[1m1s\u001b[0m 551ms/step\n"
          ]
        },
        {
          "output_type": "display_data",
          "data": {
            "text/plain": [
              "<Figure size 400x400 with 1 Axes>"
            ],
            "image/png": "[encoded data removed]"
          },
          "metadata": {}
        },
        {
          "output_type": "stream",
          "name": "stdout",
          "text": [
            "Predicted character: C (Class: 12, Confidence: 0.3498)\n",
            "\n",
            "Top 3 predictions:\n",
            "  C: 0.3498\n",
            "  h: 0.1861\n",
            "  U: 0.1766\n"
          ]
        }
      ]
    }
  ]
}