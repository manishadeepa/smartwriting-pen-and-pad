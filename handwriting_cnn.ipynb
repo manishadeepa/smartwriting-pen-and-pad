{
  "nbformat": 4,
  "nbformat_minor": 0,
  "metadata": {
    "colab": {
      "provenance": [],
      "authorship_tag": "ABX9TyMgoMY+JhpTu3cEHZDOJleE",
      "include_colab_link": true
    },
    "kernelspec": {
      "name": "python3",
      "display_name": "Python 3"
    },
    "language_info": {
      "name": "python"
    }
  },
  "cells": [
    {
      "cell_type": "markdown",
      "metadata": {
        "id": "view-in-github",
        "colab_type": "text"
      },
      "source": [
        "<a href=\"https://colab.research.google.com/github/manishadeepa/smartwriting-pen-and-pad/blob/main/handwriting_cnn.ipynb\" target=\"_parent\"><img src=\"https://colab.research.google.com/assets/colab-badge.svg\" alt=\"Open In Colab\"/></a>"
      ]
    },
    {
      "cell_type": "code",
      "source": [
        "from google.colab import drive\n",
        "drive.mount('/content/drive')"
      ],
      "metadata": {
        "colab": {
          "base_uri": "https://localhost:8080/"
        },
        "id": "xuHrCQKQ3hMW",
        "outputId": "f0405393-6249-452d-95ad-97785b8e44b5"
      },
      "execution_count": 2,
      "outputs": [
        {
          "output_type": "stream",
          "name": "stdout",
          "text": [
            "Mounted at /content/drive\n"
          ]
        }
      ]
    },
    {
      "cell_type": "markdown",
      "source": [
        "Cite for EMNIST dataset:\n",
        "\n",
        "Cohen, G., Afshar, S., Tapson, J., & van Schaik, A. (2017). EMNIST: an extension of MNIST to handwritten letters. Retrieved from http://arxiv.org/abs/1702.05373"
      ],
      "metadata": {
        "id": "oSzwvNGI3_sR"
      }
    },
    {
      "cell_type": "code",
      "source": [
        "import tensorflow as tf\n",
        "import numpy as np\n",
        "import scipy.io\n",
        "import zipfile\n",
        "import os\n",
        "from tensorflow.keras.utils import to_categorical\n",
        "from tensorflow.keras import layers, models\n",
        "from tensorflow.keras.preprocessing.image import ImageDataGenerator\n",
        "from PIL import Image, ImageDraw\n",
        "import matplotlib.pyplot as plt\n",
        "import cv2\n",
        "from sklearn.model_selection import train_test_split"
      ],
      "metadata": {
        "id": "4rgYF2AQ4Lny"
      },
      "execution_count": 1,
      "outputs": []
    },
    {
      "cell_type": "code",
      "source": [
        "# Paths\n",
        "zip_path = '/content/drive/MyDrive/matlab.zip'\n",
        "extract_path = '/content/emnist'\n",
        "\n",
        "# Extract zip file\n",
        "if not os.path.exists(extract_path):\n",
        "    with zipfile.ZipFile(zip_path, 'r') as zip_ref:\n",
        "        zip_ref.extractall(extract_path)\n",
        "\n",
        "# Load EMNIST balanced dataset\n",
        "mat_path = os.path.join(extract_path, 'matlab/emnist-balanced.mat')\n",
        "mat = scipy.io.loadmat(mat_path)\n",
        "\n",
        "# Extract data\n",
        "x_train = mat['dataset']['train'][0][0]['images'][0][0]\n",
        "y_train = mat['dataset']['train'][0][0]['labels'][0][0].flatten()\n",
        "x_test = mat['dataset']['test'][0][0]['images'][0][0]\n",
        "y_test = mat['dataset']['test'][0][0]['labels'][0][0].flatten()"
      ],
      "metadata": {
        "id": "jPDLN_CfDCi1"
      },
      "execution_count": 3,
      "outputs": []
    },
    {
      "cell_type": "code",
      "source": [
        "from tensorflow.keras.utils import to_categorical\n",
        "import numpy as np\n",
        "\n",
        "def preprocess_data(x, y, num_classes=47):\n",
        "    # Ensure x is normalized and reshaped\n",
        "    x = x.astype('float32') / 255.0\n",
        "    x = x.reshape(-1, 28, 28, 1)\n",
        "    # Ensure y is integer labels, then one-hot encode\n",
        "    y = y.astype('int32').flatten()  # Flatten to ensure 1D array of integers\n",
        "    y = to_categorical(y, num_classes)\n",
        "    return x, y  # Fixed typo\n",
        "\n",
        "# Assuming mat is loaded from earlier\n",
        "x_train = mat['dataset']['train'][0][0]['images'][0][0]\n",
        "y_train = mat['dataset']['train'][0][0]['labels'][0][0]\n",
        "x_test = mat['dataset']['test'][0][0]['images'][0][0]\n",
        "y_test = mat['dataset']['test'][0][0]['labels'][0][0]\n",
        "\n",
        "# Apply preprocessing\n",
        "x_train, y_train = preprocess_data(x_train, y_train)\n",
        "x_test, y_test = preprocess_data(x_test, y_test)\n",
        "\n",
        "# Create validation set\n",
        "from sklearn.model_selection import train_test_split\n",
        "x_train, x_val, y_train, y_val = train_test_split(\n",
        "    x_train, y_train, test_size=0.2, random_state=42\n",
        ")\n",
        "\n",
        "# Debug shapes and types\n",
        "print(f\"x_train dtype: {x_train.dtype}, shape: {x_train.shape}\")\n",
        "print(f\"y_train dtype: {y_train.dtype}, shape: {y_train.shape}\")\n",
        "print(f\"x_val dtype: {x_val.dtype}, shape: {x_val.shape}\")\n",
        "print(f\"y_val dtype: {y_val.dtype}, shape: {y_val.shape}\")\n",
        "print(f\"x_test dtype: {x_test.dtype}, shape: {x_test.shape}\")\n",
        "print(f\"y_test dtype: {y_test.dtype}, shape: {y_test.shape}\")"
      ],
      "metadata": {
        "id": "S37UwB_rXy6R",
        "colab": {
          "base_uri": "https://localhost:8080/"
        },
        "outputId": "676d33d8-f642-4182-acaf-9013ac1889b4"
      },
      "execution_count": 4,
      "outputs": [
        {
          "output_type": "stream",
          "name": "stdout",
          "text": [
            "x_train dtype: float32, shape: (90240, 28, 28, 1)\n",
            "y_train dtype: float64, shape: (90240, 47)\n",
            "x_val dtype: float32, shape: (22560, 28, 28, 1)\n",
            "y_val dtype: float64, shape: (22560, 47)\n",
            "x_test dtype: float32, shape: (18800, 28, 28, 1)\n",
            "y_test dtype: float64, shape: (18800, 47)\n"
          ]
        }
      ]
    },
    {
      "cell_type": "code",
      "source": [
        "def build_model(num_classes=47):\n",
        "    model = models.Sequential([\n",
        "        layers.Conv2D(32, (3, 3), activation='relu', padding='same', input_shape=(28, 28, 1)),\n",
        "        layers.BatchNormalization(),\n",
        "        layers.Conv2D(32, (3, 3), activation='relu', padding='same'),\n",
        "        layers.BatchNormalization(),\n",
        "        layers.MaxPooling2D((2, 2)),\n",
        "        layers.Dropout(0.25),\n",
        "\n",
        "        layers.Conv2D(64, (3, 3), activation='relu', padding='same'),\n",
        "        layers.BatchNormalization(),\n",
        "        layers.Conv2D(64, (3, 3), activation='relu', padding='same'),\n",
        "        layers.BatchNormalization(),\n",
        "        layers.MaxPooling2D((2, 2)),\n",
        "        layers.Dropout(0.25),\n",
        "\n",
        "        layers.Flatten(),\n",
        "        layers.Dense(512, activation='relu'),\n",
        "        layers.BatchNormalization(),\n",
        "        layers.Dropout(0.5),\n",
        "        layers.Dense(num_classes, activation='softmax')\n",
        "    ])\n",
        "    return model\n",
        "\n",
        "# Initialize and compile\n",
        "model = build_model()\n",
        "model.compile(\n",
        "    optimizer='adam',\n",
        "    loss='categorical_crossentropy',\n",
        "    metrics=['accuracy']\n",
        ")\n",
        "\n",
        "model.summary()"
      ],
      "metadata": {
        "colab": {
          "base_uri": "https://localhost:8080/",
          "height": 809
        },
        "id": "JRZ0gDJVZCIF",
        "outputId": "6540f261-6fe0-4a36-8522-33294ff067d4"
      },
      "execution_count": 5,
      "outputs": [
        {
          "output_type": "stream",
          "name": "stderr",
          "text": [
            "/usr/local/lib/python3.11/dist-packages/keras/src/layers/convolutional/base_conv.py:107: UserWarning: Do not pass an `input_shape`/`input_dim` argument to a layer. When using Sequential models, prefer using an `Input(shape)` object as the first layer in the model instead.\n",
            "  super().__init__(activity_regularizer=activity_regularizer, **kwargs)\n"
          ]
        },
        {
          "output_type": "display_data",
          "data": {
            "text/plain": [
              "\u001b[1mModel: \"sequential\"\u001b[0m\n"
            ],
            "text/html": [
              "<pre style=\"white-space:pre;overflow-x:auto;line-height:normal;font-family:Menlo,'DejaVu Sans Mono',consolas,'Courier New',monospace\"><span style=\"font-weight: bold\">Model: \"sequential\"</span>\n",
              "</pre>\n"
            ]
          },
          "metadata": {}
        },
        {
          "output_type": "display_data",
          "data": {
            "text/plain": [
              "┏━━━━━━━━━━━━━━━━━━━━━━━━━━━━━━━━━┳━━━━━━━━━━━━━━━━━━━━━━━━┳━━━━━━━━━━━━━━━┓\n",
              "┃\u001b[1m \u001b[0m\u001b[1mLayer (type)                   \u001b[0m\u001b[1m \u001b[0m┃\u001b[1m \u001b[0m\u001b[1mOutput Shape          \u001b[0m\u001b[1m \u001b[0m┃\u001b[1m \u001b[0m\u001b[1m      Param #\u001b[0m\u001b[1m \u001b[0m┃\n",
              "┡━━━━━━━━━━━━━━━━━━━━━━━━━━━━━━━━━╇━━━━━━━━━━━━━━━━━━━━━━━━╇━━━━━━━━━━━━━━━┩\n",
              "│ conv2d (\u001b[38;5;33mConv2D\u001b[0m)                 │ (\u001b[38;5;45mNone\u001b[0m, \u001b[38;5;34m28\u001b[0m, \u001b[38;5;34m28\u001b[0m, \u001b[38;5;34m32\u001b[0m)     │           \u001b[38;5;34m320\u001b[0m │\n",
              "├─────────────────────────────────┼────────────────────────┼───────────────┤\n",
              "│ batch_normalization             │ (\u001b[38;5;45mNone\u001b[0m, \u001b[38;5;34m28\u001b[0m, \u001b[38;5;34m28\u001b[0m, \u001b[38;5;34m32\u001b[0m)     │           \u001b[38;5;34m128\u001b[0m │\n",
              "│ (\u001b[38;5;33mBatchNormalization\u001b[0m)            │                        │               │\n",
              "├─────────────────────────────────┼────────────────────────┼───────────────┤\n",
              "│ conv2d_1 (\u001b[38;5;33mConv2D\u001b[0m)               │ (\u001b[38;5;45mNone\u001b[0m, \u001b[38;5;34m28\u001b[0m, \u001b[38;5;34m28\u001b[0m, \u001b[38;5;34m32\u001b[0m)     │         \u001b[38;5;34m9,248\u001b[0m │\n",
              "├─────────────────────────────────┼────────────────────────┼───────────────┤\n",
              "│ batch_normalization_1           │ (\u001b[38;5;45mNone\u001b[0m, \u001b[38;5;34m28\u001b[0m, \u001b[38;5;34m28\u001b[0m, \u001b[38;5;34m32\u001b[0m)     │           \u001b[38;5;34m128\u001b[0m │\n",
              "│ (\u001b[38;5;33mBatchNormalization\u001b[0m)            │                        │               │\n",
              "├─────────────────────────────────┼────────────────────────┼───────────────┤\n",
              "│ max_pooling2d (\u001b[38;5;33mMaxPooling2D\u001b[0m)    │ (\u001b[38;5;45mNone\u001b[0m, \u001b[38;5;34m14\u001b[0m, \u001b[38;5;34m14\u001b[0m, \u001b[38;5;34m32\u001b[0m)     │             \u001b[38;5;34m0\u001b[0m │\n",
              "├─────────────────────────────────┼────────────────────────┼───────────────┤\n",
              "│ dropout (\u001b[38;5;33mDropout\u001b[0m)               │ (\u001b[38;5;45mNone\u001b[0m, \u001b[38;5;34m14\u001b[0m, \u001b[38;5;34m14\u001b[0m, \u001b[38;5;34m32\u001b[0m)     │             \u001b[38;5;34m0\u001b[0m │\n",
              "├─────────────────────────────────┼────────────────────────┼───────────────┤\n",
              "│ conv2d_2 (\u001b[38;5;33mConv2D\u001b[0m)               │ (\u001b[38;5;45mNone\u001b[0m, \u001b[38;5;34m14\u001b[0m, \u001b[38;5;34m14\u001b[0m, \u001b[38;5;34m64\u001b[0m)     │        \u001b[38;5;34m18,496\u001b[0m │\n",
              "├─────────────────────────────────┼────────────────────────┼───────────────┤\n",
              "│ batch_normalization_2           │ (\u001b[38;5;45mNone\u001b[0m, \u001b[38;5;34m14\u001b[0m, \u001b[38;5;34m14\u001b[0m, \u001b[38;5;34m64\u001b[0m)     │           \u001b[38;5;34m256\u001b[0m │\n",
              "│ (\u001b[38;5;33mBatchNormalization\u001b[0m)            │                        │               │\n",
              "├─────────────────────────────────┼────────────────────────┼───────────────┤\n",
              "│ conv2d_3 (\u001b[38;5;33mConv2D\u001b[0m)               │ (\u001b[38;5;45mNone\u001b[0m, \u001b[38;5;34m14\u001b[0m, \u001b[38;5;34m14\u001b[0m, \u001b[38;5;34m64\u001b[0m)     │        \u001b[38;5;34m36,928\u001b[0m │\n",
              "├─────────────────────────────────┼────────────────────────┼───────────────┤\n",
              "│ batch_normalization_3           │ (\u001b[38;5;45mNone\u001b[0m, \u001b[38;5;34m14\u001b[0m, \u001b[38;5;34m14\u001b[0m, \u001b[38;5;34m64\u001b[0m)     │           \u001b[38;5;34m256\u001b[0m │\n",
              "│ (\u001b[38;5;33mBatchNormalization\u001b[0m)            │                        │               │\n",
              "├─────────────────────────────────┼────────────────────────┼───────────────┤\n",
              "│ max_pooling2d_1 (\u001b[38;5;33mMaxPooling2D\u001b[0m)  │ (\u001b[38;5;45mNone\u001b[0m, \u001b[38;5;34m7\u001b[0m, \u001b[38;5;34m7\u001b[0m, \u001b[38;5;34m64\u001b[0m)       │             \u001b[38;5;34m0\u001b[0m │\n",
              "├─────────────────────────────────┼────────────────────────┼───────────────┤\n",
              "│ dropout_1 (\u001b[38;5;33mDropout\u001b[0m)             │ (\u001b[38;5;45mNone\u001b[0m, \u001b[38;5;34m7\u001b[0m, \u001b[38;5;34m7\u001b[0m, \u001b[38;5;34m64\u001b[0m)       │             \u001b[38;5;34m0\u001b[0m │\n",
              "├─────────────────────────────────┼────────────────────────┼───────────────┤\n",
              "│ flatten (\u001b[38;5;33mFlatten\u001b[0m)               │ (\u001b[38;5;45mNone\u001b[0m, \u001b[38;5;34m3136\u001b[0m)           │             \u001b[38;5;34m0\u001b[0m │\n",
              "├─────────────────────────────────┼────────────────────────┼───────────────┤\n",
              "│ dense (\u001b[38;5;33mDense\u001b[0m)                   │ (\u001b[38;5;45mNone\u001b[0m, \u001b[38;5;34m512\u001b[0m)            │     \u001b[38;5;34m1,606,144\u001b[0m │\n",
              "├─────────────────────────────────┼────────────────────────┼───────────────┤\n",
              "│ batch_normalization_4           │ (\u001b[38;5;45mNone\u001b[0m, \u001b[38;5;34m512\u001b[0m)            │         \u001b[38;5;34m2,048\u001b[0m │\n",
              "│ (\u001b[38;5;33mBatchNormalization\u001b[0m)            │                        │               │\n",
              "├─────────────────────────────────┼────────────────────────┼───────────────┤\n",
              "│ dropout_2 (\u001b[38;5;33mDropout\u001b[0m)             │ (\u001b[38;5;45mNone\u001b[0m, \u001b[38;5;34m512\u001b[0m)            │             \u001b[38;5;34m0\u001b[0m │\n",
              "├─────────────────────────────────┼────────────────────────┼───────────────┤\n",
              "│ dense_1 (\u001b[38;5;33mDense\u001b[0m)                 │ (\u001b[38;5;45mNone\u001b[0m, \u001b[38;5;34m47\u001b[0m)             │        \u001b[38;5;34m24,111\u001b[0m │\n",
              "└─────────────────────────────────┴────────────────────────┴───────────────┘\n"
            ],
            "text/html": [
              "<pre style=\"white-space:pre;overflow-x:auto;line-height:normal;font-family:Menlo,'DejaVu Sans Mono',consolas,'Courier New',monospace\">┏━━━━━━━━━━━━━━━━━━━━━━━━━━━━━━━━━┳━━━━━━━━━━━━━━━━━━━━━━━━┳━━━━━━━━━━━━━━━┓\n",
              "┃<span style=\"font-weight: bold\"> Layer (type)                    </span>┃<span style=\"font-weight: bold\"> Output Shape           </span>┃<span style=\"font-weight: bold\">       Param # </span>┃\n",
              "┡━━━━━━━━━━━━━━━━━━━━━━━━━━━━━━━━━╇━━━━━━━━━━━━━━━━━━━━━━━━╇━━━━━━━━━━━━━━━┩\n",
              "│ conv2d (<span style=\"color: #0087ff; text-decoration-color: #0087ff\">Conv2D</span>)                 │ (<span style=\"color: #00d7ff; text-decoration-color: #00d7ff\">None</span>, <span style=\"color: #00af00; text-decoration-color: #00af00\">28</span>, <span style=\"color: #00af00; text-decoration-color: #00af00\">28</span>, <span style=\"color: #00af00; text-decoration-color: #00af00\">32</span>)     │           <span style=\"color: #00af00; text-decoration-color: #00af00\">320</span> │\n",
              "├─────────────────────────────────┼────────────────────────┼───────────────┤\n",
              "│ batch_normalization             │ (<span style=\"color: #00d7ff; text-decoration-color: #00d7ff\">None</span>, <span style=\"color: #00af00; text-decoration-color: #00af00\">28</span>, <span style=\"color: #00af00; text-decoration-color: #00af00\">28</span>, <span style=\"color: #00af00; text-decoration-color: #00af00\">32</span>)     │           <span style=\"color: #00af00; text-decoration-color: #00af00\">128</span> │\n",
              "│ (<span style=\"color: #0087ff; text-decoration-color: #0087ff\">BatchNormalization</span>)            │                        │               │\n",
              "├─────────────────────────────────┼────────────────────────┼───────────────┤\n",
              "│ conv2d_1 (<span style=\"color: #0087ff; text-decoration-color: #0087ff\">Conv2D</span>)               │ (<span style=\"color: #00d7ff; text-decoration-color: #00d7ff\">None</span>, <span style=\"color: #00af00; text-decoration-color: #00af00\">28</span>, <span style=\"color: #00af00; text-decoration-color: #00af00\">28</span>, <span style=\"color: #00af00; text-decoration-color: #00af00\">32</span>)     │         <span style=\"color: #00af00; text-decoration-color: #00af00\">9,248</span> │\n",
              "├─────────────────────────────────┼────────────────────────┼───────────────┤\n",
              "│ batch_normalization_1           │ (<span style=\"color: #00d7ff; text-decoration-color: #00d7ff\">None</span>, <span style=\"color: #00af00; text-decoration-color: #00af00\">28</span>, <span style=\"color: #00af00; text-decoration-color: #00af00\">28</span>, <span style=\"color: #00af00; text-decoration-color: #00af00\">32</span>)     │           <span style=\"color: #00af00; text-decoration-color: #00af00\">128</span> │\n",
              "│ (<span style=\"color: #0087ff; text-decoration-color: #0087ff\">BatchNormalization</span>)            │                        │               │\n",
              "├─────────────────────────────────┼────────────────────────┼───────────────┤\n",
              "│ max_pooling2d (<span style=\"color: #0087ff; text-decoration-color: #0087ff\">MaxPooling2D</span>)    │ (<span style=\"color: #00d7ff; text-decoration-color: #00d7ff\">None</span>, <span style=\"color: #00af00; text-decoration-color: #00af00\">14</span>, <span style=\"color: #00af00; text-decoration-color: #00af00\">14</span>, <span style=\"color: #00af00; text-decoration-color: #00af00\">32</span>)     │             <span style=\"color: #00af00; text-decoration-color: #00af00\">0</span> │\n",
              "├─────────────────────────────────┼────────────────────────┼───────────────┤\n",
              "│ dropout (<span style=\"color: #0087ff; text-decoration-color: #0087ff\">Dropout</span>)               │ (<span style=\"color: #00d7ff; text-decoration-color: #00d7ff\">None</span>, <span style=\"color: #00af00; text-decoration-color: #00af00\">14</span>, <span style=\"color: #00af00; text-decoration-color: #00af00\">14</span>, <span style=\"color: #00af00; text-decoration-color: #00af00\">32</span>)     │             <span style=\"color: #00af00; text-decoration-color: #00af00\">0</span> │\n",
              "├─────────────────────────────────┼────────────────────────┼───────────────┤\n",
              "│ conv2d_2 (<span style=\"color: #0087ff; text-decoration-color: #0087ff\">Conv2D</span>)               │ (<span style=\"color: #00d7ff; text-decoration-color: #00d7ff\">None</span>, <span style=\"color: #00af00; text-decoration-color: #00af00\">14</span>, <span style=\"color: #00af00; text-decoration-color: #00af00\">14</span>, <span style=\"color: #00af00; text-decoration-color: #00af00\">64</span>)     │        <span style=\"color: #00af00; text-decoration-color: #00af00\">18,496</span> │\n",
              "├─────────────────────────────────┼────────────────────────┼───────────────┤\n",
              "│ batch_normalization_2           │ (<span style=\"color: #00d7ff; text-decoration-color: #00d7ff\">None</span>, <span style=\"color: #00af00; text-decoration-color: #00af00\">14</span>, <span style=\"color: #00af00; text-decoration-color: #00af00\">14</span>, <span style=\"color: #00af00; text-decoration-color: #00af00\">64</span>)     │           <span style=\"color: #00af00; text-decoration-color: #00af00\">256</span> │\n",
              "│ (<span style=\"color: #0087ff; text-decoration-color: #0087ff\">BatchNormalization</span>)            │                        │               │\n",
              "├─────────────────────────────────┼────────────────────────┼───────────────┤\n",
              "│ conv2d_3 (<span style=\"color: #0087ff; text-decoration-color: #0087ff\">Conv2D</span>)               │ (<span style=\"color: #00d7ff; text-decoration-color: #00d7ff\">None</span>, <span style=\"color: #00af00; text-decoration-color: #00af00\">14</span>, <span style=\"color: #00af00; text-decoration-color: #00af00\">14</span>, <span style=\"color: #00af00; text-decoration-color: #00af00\">64</span>)     │        <span style=\"color: #00af00; text-decoration-color: #00af00\">36,928</span> │\n",
              "├─────────────────────────────────┼────────────────────────┼───────────────┤\n",
              "│ batch_normalization_3           │ (<span style=\"color: #00d7ff; text-decoration-color: #00d7ff\">None</span>, <span style=\"color: #00af00; text-decoration-color: #00af00\">14</span>, <span style=\"color: #00af00; text-decoration-color: #00af00\">14</span>, <span style=\"color: #00af00; text-decoration-color: #00af00\">64</span>)     │           <span style=\"color: #00af00; text-decoration-color: #00af00\">256</span> │\n",
              "│ (<span style=\"color: #0087ff; text-decoration-color: #0087ff\">BatchNormalization</span>)            │                        │               │\n",
              "├─────────────────────────────────┼────────────────────────┼───────────────┤\n",
              "│ max_pooling2d_1 (<span style=\"color: #0087ff; text-decoration-color: #0087ff\">MaxPooling2D</span>)  │ (<span style=\"color: #00d7ff; text-decoration-color: #00d7ff\">None</span>, <span style=\"color: #00af00; text-decoration-color: #00af00\">7</span>, <span style=\"color: #00af00; text-decoration-color: #00af00\">7</span>, <span style=\"color: #00af00; text-decoration-color: #00af00\">64</span>)       │             <span style=\"color: #00af00; text-decoration-color: #00af00\">0</span> │\n",
              "├─────────────────────────────────┼────────────────────────┼───────────────┤\n",
              "│ dropout_1 (<span style=\"color: #0087ff; text-decoration-color: #0087ff\">Dropout</span>)             │ (<span style=\"color: #00d7ff; text-decoration-color: #00d7ff\">None</span>, <span style=\"color: #00af00; text-decoration-color: #00af00\">7</span>, <span style=\"color: #00af00; text-decoration-color: #00af00\">7</span>, <span style=\"color: #00af00; text-decoration-color: #00af00\">64</span>)       │             <span style=\"color: #00af00; text-decoration-color: #00af00\">0</span> │\n",
              "├─────────────────────────────────┼────────────────────────┼───────────────┤\n",
              "│ flatten (<span style=\"color: #0087ff; text-decoration-color: #0087ff\">Flatten</span>)               │ (<span style=\"color: #00d7ff; text-decoration-color: #00d7ff\">None</span>, <span style=\"color: #00af00; text-decoration-color: #00af00\">3136</span>)           │             <span style=\"color: #00af00; text-decoration-color: #00af00\">0</span> │\n",
              "├─────────────────────────────────┼────────────────────────┼───────────────┤\n",
              "│ dense (<span style=\"color: #0087ff; text-decoration-color: #0087ff\">Dense</span>)                   │ (<span style=\"color: #00d7ff; text-decoration-color: #00d7ff\">None</span>, <span style=\"color: #00af00; text-decoration-color: #00af00\">512</span>)            │     <span style=\"color: #00af00; text-decoration-color: #00af00\">1,606,144</span> │\n",
              "├─────────────────────────────────┼────────────────────────┼───────────────┤\n",
              "│ batch_normalization_4           │ (<span style=\"color: #00d7ff; text-decoration-color: #00d7ff\">None</span>, <span style=\"color: #00af00; text-decoration-color: #00af00\">512</span>)            │         <span style=\"color: #00af00; text-decoration-color: #00af00\">2,048</span> │\n",
              "│ (<span style=\"color: #0087ff; text-decoration-color: #0087ff\">BatchNormalization</span>)            │                        │               │\n",
              "├─────────────────────────────────┼────────────────────────┼───────────────┤\n",
              "│ dropout_2 (<span style=\"color: #0087ff; text-decoration-color: #0087ff\">Dropout</span>)             │ (<span style=\"color: #00d7ff; text-decoration-color: #00d7ff\">None</span>, <span style=\"color: #00af00; text-decoration-color: #00af00\">512</span>)            │             <span style=\"color: #00af00; text-decoration-color: #00af00\">0</span> │\n",
              "├─────────────────────────────────┼────────────────────────┼───────────────┤\n",
              "│ dense_1 (<span style=\"color: #0087ff; text-decoration-color: #0087ff\">Dense</span>)                 │ (<span style=\"color: #00d7ff; text-decoration-color: #00d7ff\">None</span>, <span style=\"color: #00af00; text-decoration-color: #00af00\">47</span>)             │        <span style=\"color: #00af00; text-decoration-color: #00af00\">24,111</span> │\n",
              "└─────────────────────────────────┴────────────────────────┴───────────────┘\n",
              "</pre>\n"
            ]
          },
          "metadata": {}
        },
        {
          "output_type": "display_data",
          "data": {
            "text/plain": [
              "\u001b[1m Total params: \u001b[0m\u001b[38;5;34m1,698,063\u001b[0m (6.48 MB)\n"
            ],
            "text/html": [
              "<pre style=\"white-space:pre;overflow-x:auto;line-height:normal;font-family:Menlo,'DejaVu Sans Mono',consolas,'Courier New',monospace\"><span style=\"font-weight: bold\"> Total params: </span><span style=\"color: #00af00; text-decoration-color: #00af00\">1,698,063</span> (6.48 MB)\n",
              "</pre>\n"
            ]
          },
          "metadata": {}
        },
        {
          "output_type": "display_data",
          "data": {
            "text/plain": [
              "\u001b[1m Trainable params: \u001b[0m\u001b[38;5;34m1,696,655\u001b[0m (6.47 MB)\n"
            ],
            "text/html": [
              "<pre style=\"white-space:pre;overflow-x:auto;line-height:normal;font-family:Menlo,'DejaVu Sans Mono',consolas,'Courier New',monospace\"><span style=\"font-weight: bold\"> Trainable params: </span><span style=\"color: #00af00; text-decoration-color: #00af00\">1,696,655</span> (6.47 MB)\n",
              "</pre>\n"
            ]
          },
          "metadata": {}
        },
        {
          "output_type": "display_data",
          "data": {
            "text/plain": [
              "\u001b[1m Non-trainable params: \u001b[0m\u001b[38;5;34m1,408\u001b[0m (5.50 KB)\n"
            ],
            "text/html": [
              "<pre style=\"white-space:pre;overflow-x:auto;line-height:normal;font-family:Menlo,'DejaVu Sans Mono',consolas,'Courier New',monospace\"><span style=\"font-weight: bold\"> Non-trainable params: </span><span style=\"color: #00af00; text-decoration-color: #00af00\">1,408</span> (5.50 KB)\n",
              "</pre>\n"
            ]
          },
          "metadata": {}
        }
      ]
    },
    {
      "cell_type": "markdown",
      "source": [
        " # Debug initial types\n",
        "    tf.print(\"Initial image dtype:\", image.dtype, \"shape:\", tf.shape(image))\n",
        "    tf.print(\"Initial label dtype:\", label.dtype, \"shape:\", tf.shape(label))\n",
        "    \n",
        "    tf.print(\"After rotation image dtype:\", image.dtype, \"shape:\", tf.shape(image))\n",
        "    "
      ],
      "metadata": {
        "id": "yf8x3e37TSZf"
      }
    },
    {
      "cell_type": "code",
      "source": [
        "import tensorflow as tf\n",
        "\n",
        "# Define data augmentation function for tf.data\n",
        "def augment_image(image, label):\n",
        "    # Ensure types\n",
        "    image = tf.cast(image, tf.float32)\n",
        "    label = tf.cast(label, tf.float32)\n",
        "\n",
        "\n",
        "\n",
        "    # Random flip\n",
        "    image = tf.image.random_flip_left_right(image)\n",
        "\n",
        "    # Random brightness and contrast\n",
        "    image = tf.image.random_brightness(image, max_delta=0.1)\n",
        "    image = tf.image.random_contrast(image, lower=0.8, upper=1.2)\n",
        "\n",
        "    # Random rotation (discrete steps)\n",
        "    k = tf.random.uniform([], 0, 4, dtype=tf.int32)\n",
        "    image = tf.image.rot90(image, k=k)\n",
        "\n",
        "    # Skip zoom to avoid Mul op issue\n",
        "    return image, label\n",
        "\n",
        "# Create tf.data datasets\n",
        "batch_size = 128\n",
        "\n",
        "# Ensure input data types\n",
        "x_train = tf.cast(x_train, tf.float32)\n",
        "y_train = tf.cast(y_train, tf.float32)\n",
        "x_val = tf.cast(x_val, tf.float32)\n",
        "y_val = tf.cast(y_val, tf.float32)\n",
        "\n",
        "# Debug input types\n",
        "print(f\"x_train dtype: {x_train.dtype}, shape: {x_train.shape}\")\n",
        "print(f\"y_train dtype: {y_train.dtype}, shape: {y_train.shape}\")\n",
        "print(f\"x_val dtype: {x_val.dtype}, shape: {x_val.shape}\")\n",
        "print(f\"y_val dtype: {y_val.dtype}, shape: {y_val.shape}\")\n",
        "\n",
        "train_dataset = tf.data.Dataset.from_tensor_slices((x_train, y_train))\n",
        "train_dataset = (train_dataset\n",
        "                 .shuffle(buffer_size=10000)\n",
        "                 .map(augment_image, num_parallel_calls=tf.data.AUTOTUNE)\n",
        "                 .batch(batch_size)\n",
        "                 .prefetch(tf.data.AUTOTUNE))\n",
        "\n",
        "val_dataset = tf.data.Dataset.from_tensor_slices((x_val, y_val))\n",
        "val_dataset = val_dataset.batch(batch_size).prefetch(tf.data.AUTOTUNE)\n",
        "\n",
        "# Debug dataset output\n",
        "for batch_x, batch_y in train_dataset.take(1):\n",
        "    print(f\"Batch x dtype: {batch_x.dtype}, shape: {batch_x.shape}\")\n",
        "    print(f\"Batch y dtype: {batch_y.dtype}, shape: {batch_y.shape}\")\n",
        "\n",
        "# Callbacks\n",
        "lr_scheduler = tf.keras.callbacks.ReduceLROnPlateau(\n",
        "    monitor='val_loss', factor=0.5, patience=3, min_lr=1e-6\n",
        ")\n",
        "early_stopping = tf.keras.callbacks.EarlyStopping(\n",
        "    monitor='val_loss', patience=5, restore_best_weights=True\n",
        ")\n",
        "\n",
        "# Train\n",
        "epochs = 20\n",
        "\n",
        "history = model.fit(\n",
        "    train_dataset,\n",
        "    validation_data=val_dataset,\n",
        "    epochs=epochs,\n",
        "    callbacks=[lr_scheduler, early_stopping],\n",
        "    verbose=1\n",
        ")\n",
        "\n",
        "# Evaluate on test set\n",
        "test_loss, test_accuracy = model.evaluate(x_test, y_test)\n",
        "print(f\"Test accuracy: {test_accuracy:.4f}\")\n"
      ],
      "metadata": {
        "colab": {
          "base_uri": "https://localhost:8080/"
        },
        "id": "5Lmfm5CDZKrX",
        "outputId": "0902922b-36b6-4bb6-a363-aa62d38209a3"
      },
      "execution_count": 6,
      "outputs": [
        {
          "output_type": "stream",
          "name": "stdout",
          "text": [
            "x_train dtype: <dtype: 'float32'>, shape: (90240, 28, 28, 1)\n",
            "y_train dtype: <dtype: 'float32'>, shape: (90240, 47)\n",
            "x_val dtype: <dtype: 'float32'>, shape: (22560, 28, 28, 1)\n",
            "y_val dtype: <dtype: 'float32'>, shape: (22560, 47)\n",
            "Batch x dtype: <dtype: 'float32'>, shape: (128, 28, 28, 1)\n",
            "Batch y dtype: <dtype: 'float32'>, shape: (128, 47)\n",
            "Epoch 1/20\n",
            "\u001b[1m705/705\u001b[0m \u001b[32m━━━━━━━━━━━━━━━━━━━━\u001b[0m\u001b[37m\u001b[0m \u001b[1m507s\u001b[0m 711ms/step - accuracy: 0.2370 - loss: 3.0902 - val_accuracy: 0.5519 - val_loss: 1.4681 - learning_rate: 0.0010\n",
            "Epoch 2/20\n",
            "\u001b[1m705/705\u001b[0m \u001b[32m━━━━━━━━━━━━━━━━━━━━\u001b[0m\u001b[37m\u001b[0m \u001b[1m514s\u001b[0m 728ms/step - accuracy: 0.5506 - loss: 1.4560 - val_accuracy: 0.6713 - val_loss: 1.0257 - learning_rate: 0.0010\n",
            "Epoch 3/20\n",
            "\u001b[1m705/705\u001b[0m \u001b[32m━━━━━━━━━━━━━━━━━━━━\u001b[0m\u001b[37m\u001b[0m \u001b[1m545s\u001b[0m 704ms/step - accuracy: 0.6196 - loss: 1.2069 - val_accuracy: 0.6895 - val_loss: 0.9420 - learning_rate: 0.0010\n",
            "Epoch 4/20\n",
            "\u001b[1m705/705\u001b[0m \u001b[32m━━━━━━━━━━━━━━━━━━━━\u001b[0m\u001b[37m\u001b[0m \u001b[1m501s\u001b[0m 710ms/step - accuracy: 0.6468 - loss: 1.1033 - val_accuracy: 0.7153 - val_loss: 0.8654 - learning_rate: 0.0010\n",
            "Epoch 5/20\n",
            "\u001b[1m705/705\u001b[0m \u001b[32m━━━━━━━━━━━━━━━━━━━━\u001b[0m\u001b[37m\u001b[0m \u001b[1m516s\u001b[0m 731ms/step - accuracy: 0.6631 - loss: 1.0408 - val_accuracy: 0.7171 - val_loss: 0.8481 - learning_rate: 0.0010\n",
            "Epoch 6/20\n",
            "\u001b[1m705/705\u001b[0m \u001b[32m━━━━━━━━━━━━━━━━━━━━\u001b[0m\u001b[37m\u001b[0m \u001b[1m545s\u001b[0m 707ms/step - accuracy: 0.6763 - loss: 0.9985 - val_accuracy: 0.7137 - val_loss: 0.8422 - learning_rate: 0.0010\n",
            "Epoch 7/20\n",
            "\u001b[1m705/705\u001b[0m \u001b[32m━━━━━━━━━━━━━━━━━━━━\u001b[0m\u001b[37m\u001b[0m \u001b[1m498s\u001b[0m 702ms/step - accuracy: 0.6839 - loss: 0.9653 - val_accuracy: 0.7440 - val_loss: 0.7657 - learning_rate: 0.0010\n",
            "Epoch 8/20\n",
            "\u001b[1m705/705\u001b[0m \u001b[32m━━━━━━━━━━━━━━━━━━━━\u001b[0m\u001b[37m\u001b[0m \u001b[1m505s\u001b[0m 707ms/step - accuracy: 0.6945 - loss: 0.9390 - val_accuracy: 0.7367 - val_loss: 0.7873 - learning_rate: 0.0010\n",
            "Epoch 9/20\n",
            "\u001b[1m705/705\u001b[0m \u001b[32m━━━━━━━━━━━━━━━━━━━━\u001b[0m\u001b[37m\u001b[0m \u001b[1m500s\u001b[0m 704ms/step - accuracy: 0.7021 - loss: 0.9090 - val_accuracy: 0.7512 - val_loss: 0.7402 - learning_rate: 0.0010\n",
            "Epoch 10/20\n",
            "\u001b[1m705/705\u001b[0m \u001b[32m━━━━━━━━━━━━━━━━━━━━\u001b[0m\u001b[37m\u001b[0m \u001b[1m496s\u001b[0m 704ms/step - accuracy: 0.7077 - loss: 0.8908 - val_accuracy: 0.7486 - val_loss: 0.7329 - learning_rate: 0.0010\n",
            "Epoch 11/20\n",
            "\u001b[1m705/705\u001b[0m \u001b[32m━━━━━━━━━━━━━━━━━━━━\u001b[0m\u001b[37m\u001b[0m \u001b[1m496s\u001b[0m 704ms/step - accuracy: 0.7100 - loss: 0.8782 - val_accuracy: 0.7592 - val_loss: 0.7212 - learning_rate: 0.0010\n",
            "Epoch 12/20\n",
            "\u001b[1m705/705\u001b[0m \u001b[32m━━━━━━━━━━━━━━━━━━━━\u001b[0m\u001b[37m\u001b[0m \u001b[1m509s\u001b[0m 715ms/step - accuracy: 0.7152 - loss: 0.8585 - val_accuracy: 0.7631 - val_loss: 0.7031 - learning_rate: 0.0010\n",
            "Epoch 13/20\n",
            "\u001b[1m705/705\u001b[0m \u001b[32m━━━━━━━━━━━━━━━━━━━━\u001b[0m\u001b[37m\u001b[0m \u001b[1m553s\u001b[0m 703ms/step - accuracy: 0.7189 - loss: 0.8520 - val_accuracy: 0.7617 - val_loss: 0.7005 - learning_rate: 0.0010\n",
            "Epoch 14/20\n",
            "\u001b[1m705/705\u001b[0m \u001b[32m━━━━━━━━━━━━━━━━━━━━\u001b[0m\u001b[37m\u001b[0m \u001b[1m501s\u001b[0m 701ms/step - accuracy: 0.7222 - loss: 0.8371 - val_accuracy: 0.7742 - val_loss: 0.6628 - learning_rate: 0.0010\n",
            "Epoch 15/20\n",
            "\u001b[1m705/705\u001b[0m \u001b[32m━━━━━━━━━━━━━━━━━━━━\u001b[0m\u001b[37m\u001b[0m \u001b[1m516s\u001b[0m 722ms/step - accuracy: 0.7287 - loss: 0.8263 - val_accuracy: 0.7756 - val_loss: 0.6632 - learning_rate: 0.0010\n",
            "Epoch 16/20\n",
            "\u001b[1m705/705\u001b[0m \u001b[32m━━━━━━━━━━━━━━━━━━━━\u001b[0m\u001b[37m\u001b[0m \u001b[1m553s\u001b[0m 709ms/step - accuracy: 0.7285 - loss: 0.8130 - val_accuracy: 0.7729 - val_loss: 0.6569 - learning_rate: 0.0010\n",
            "Epoch 17/20\n",
            "\u001b[1m705/705\u001b[0m \u001b[32m━━━━━━━━━━━━━━━━━━━━\u001b[0m\u001b[37m\u001b[0m \u001b[1m515s\u001b[0m 731ms/step - accuracy: 0.7341 - loss: 0.8072 - val_accuracy: 0.7735 - val_loss: 0.6602 - learning_rate: 0.0010\n",
            "Epoch 18/20\n",
            "\u001b[1m705/705\u001b[0m \u001b[32m━━━━━━━━━━━━━━━━━━━━\u001b[0m\u001b[37m\u001b[0m \u001b[1m515s\u001b[0m 731ms/step - accuracy: 0.7332 - loss: 0.8011 - val_accuracy: 0.7781 - val_loss: 0.6502 - learning_rate: 0.0010\n",
            "Epoch 19/20\n",
            "\u001b[1m705/705\u001b[0m \u001b[32m━━━━━━━━━━━━━━━━━━━━\u001b[0m\u001b[37m\u001b[0m \u001b[1m500s\u001b[0m 710ms/step - accuracy: 0.7369 - loss: 0.7889 - val_accuracy: 0.7780 - val_loss: 0.6505 - learning_rate: 0.0010\n",
            "Epoch 20/20\n",
            "\u001b[1m705/705\u001b[0m \u001b[32m━━━━━━━━━━━━━━━━━━━━\u001b[0m\u001b[37m\u001b[0m \u001b[1m502s\u001b[0m 710ms/step - accuracy: 0.7399 - loss: 0.7819 - val_accuracy: 0.7730 - val_loss: 0.6639 - learning_rate: 0.0010\n",
            "\u001b[1m588/588\u001b[0m \u001b[32m━━━━━━━━━━━━━━━━━━━━\u001b[0m\u001b[37m\u001b[0m \u001b[1m25s\u001b[0m 43ms/step - accuracy: 0.7755 - loss: 0.6747\n",
            "Test accuracy: 0.7776\n"
          ]
        }
      ]
    },
    {
      "cell_type": "code",
      "source": [
        "#saving the model\n",
        "model.save('/content/drive/MyDrive/emnist_cnn_optimized.keras')\n"
      ],
      "metadata": {
        "id": "NAJtuny9Zcdd"
      },
      "execution_count": 8,
      "outputs": []
    },
    {
      "cell_type": "code",
      "source": [
        "def stroke_to_image_with_pressure(strokes, canvas_size=128, image_size=28,\n",
        "                                  min_width=1, max_width=6, background=255):\n",
        "    \"\"\"\n",
        "    Convert strokes with pressure data to an EMNIST-compatible image.\n",
        "\n",
        "    Args:\n",
        "        strokes: List of (x, y, pressure) points or list of strokes\n",
        "        canvas_size: Initial canvas size for precision\n",
        "        image_size: Final size (28 for EMNIST)\n",
        "        min_width: Minimum stroke width\n",
        "        max_width: Maximum stroke width\n",
        "        background: Background color (255 for white)\n",
        "\n",
        "    Returns:\n",
        "        img_array: Processed array for model (1, 28, 28, 1)\n",
        "        img: PIL Image for visualization\n",
        "    \"\"\"\n",
        "    img = Image.new(\"L\", (canvas_size, canvas_size), color=background)\n",
        "    draw = ImageDraw.Draw(img)\n",
        "\n",
        "    # Handle single stroke or multiple strokes\n",
        "    if not isinstance(strokes[0][0], (list, tuple)):\n",
        "        strokes = [strokes]\n",
        "\n",
        "    # Get bounding box\n",
        "    all_points = [(p[0], p[1]) for stroke in strokes for p in stroke]\n",
        "    if not all_points:\n",
        "        min_x, max_x, min_y, max_y = 0, 100, 0, 100\n",
        "    else:\n",
        "        min_x, max_x = min(p[0] for p in all_points), max(p[0] for p in all_points)\n",
        "        min_y, max_y = min(p[1] for p in all_points), max(p[1] for p in all_points)\n",
        "        width = max_x - min_x\n",
        "        height = max_y - min_y\n",
        "        padding = max(width, height) * 0.2\n",
        "        min_x -= padding\n",
        "        max_x += padding\n",
        "        min_y -= padding\n",
        "        max_y += padding\n",
        "\n",
        "    # Draw strokes\n",
        "    for stroke in strokes:\n",
        "        for i in range(len(stroke) - 1):\n",
        "            x1, y1, p1 = stroke[i]\n",
        "            x2, y2, p2 = stroke[i + 1]\n",
        "            # Scale coordinates\n",
        "            x1_scaled = (x1 - min_x) / (max_x - min_x) * canvas_size\n",
        "            y1_scaled = (y1 - min_y) / (max_y - min_y) * canvas_size\n",
        "            x2_scaled = (x2 - min_x) / (max_x - min_x) * canvas_size\n",
        "            y2_scaled = (y2 - min_y) / (max_y - min_y) * canvas_size\n",
        "            # Calculate width based on pressure\n",
        "            avg_pressure = (p1 + p2) / 2\n",
        "            width = int(min_width + (max_width - min_width) * avg_pressure)\n",
        "            draw.line([(x1_scaled, y1_scaled), (x2_scaled, y2_scaled)], fill=0, width=width)\n",
        "\n",
        "    # Resize and preprocess\n",
        "    img_array = np.array(img.resize((image_size, image_size), Image.LANCZOS))\n",
        "\n",
        "    # Apply adaptive thresholding to clean image\n",
        "    img_array = cv2.adaptiveThreshold(\n",
        "        img_array, 255, cv2.ADAPTIVE_THRESH_GAUSSIAN_C, cv2.THRESH_BINARY, 11, 2\n",
        "    )\n",
        "\n",
        "    # Invert to match EMNIST (white characters, black background)\n",
        "    img_array = 255 - img_array\n",
        "    img_array = img_array.astype('float32') / 255.0\n",
        "    img_array = img_array.reshape(1, image_size, image_size, 1)\n",
        "\n",
        "    return img_array, img.resize((image_size, image_size), Image.LANCZOS)\n"
      ],
      "metadata": {
        "id": "xcNtcu3AB1Jy"
      },
      "execution_count": 7,
      "outputs": []
    },
    {
      "cell_type": "code",
      "source": [
        "from tensorflow.keras.models import load_model\n",
        "# Load model\n",
        "model = load_model('/content/drive/MyDrive/emnist_cnn_optimized.keras')\n",
        "\n",
        "# Sample stroke data\n",
        "'''\n",
        "sample_strokes_A=[[(40, 60, 0.5), (50, 20, 0.5), (60, 60, 0.5), (45, 40, 0.5), (55, 40, 0.5)]]\n",
        "sample_strokes_D=[[(40, 20, 0.5), (40, 60, 0.5), (50, 60, 0.5), (60, 50, 0.5), (60, 30, 0.5), (50, 20, 0.5), (40, 20, 0.5)]]\n",
        "sample_strokes_E=[[(60, 20, 0.5), (40, 20, 0.5), (40, 60, 0.5), (60, 60, 0.5), (40, 40, 0.5), (60, 40, 0.5)]]\n",
        "sample_strokes_I=[[(50, 20, 0.5), (50, 60, 0.5)]]\n",
        "sample_strokes_K=[[(40, 20, 0.5), (40, 60, 0.5), (60, 40, 0.5), (40, 60, 0.5), (60, 20, 0.5)]]\n",
        "sample_strokes_L=[[(40, 60, 0.5), (40, 20, 0.5), (60, 20, 0.5)]]\n",
        "sample_strokes_O=[[(50, 20, 0.5), (60, 20, 0.5), (70, 30, 0.5), (70, 40, 0.5), (60, 50, 0.5), (50, 50, 0.5), (40, 40, 0.5), (40, 30, 0.5), (50, 20, 0.5)]]\n",
        "sample_strokes_Q=[[(50, 20, 0.5), (60, 20, 0.5), (70, 30, 0.5), (70, 40, 0.5), (60, 50, 0.5), (50, 50, 0.5), (40, 40, 0.5), (40, 30, 0.5), (50, 20, 0.5), (60, 60, 0.5)]]\n",
        "sample_strokes_T=[[(40, 20, 0.5), (60, 20, 0.5), (50, 20, 0.5), (50, 60, 0.5)]]\n",
        "sample_strokes_U=[[(40, 60, 0.5), (40, 20, 0.5), (60, 20, 0.5), (60, 60, 0.5)]]\n",
        "sample_strokes_V=[[(40, 60, 0.5), (50, 20, 0.5), (60, 60, 0.5)]]\n",
        "sample_strokes_W=[[(40, 60, 0.5), (45, 20, 0.5), (50, 40, 0.5), (55, 20, 0.5), (60, 60, 0.5)]]\n",
        "sample_strokes_Y=[[(40, 60, 0.5), (50, 40, 0.5), (60, 60, 0.5), (50, 40, 0.5), (50, 20, 0.5)]]\n",
        "'''\n",
        "# Convert strokes to image\n",
        "img_array, img = stroke_to_image_with_pressure(sample_strokes_Z)\n",
        "\n",
        "# Predict\n",
        "prediction = model.predict(img_array)\n",
        "predicted_class = np.argmax(prediction[0])\n",
        "confidence = prediction[0][predicted_class]\n",
        "\n",
        "# EMNIST-balanced mapping\n",
        "balanced_chars = \"0123456789ABCDEFGHIJKLMNOPQRSTUVWXYZabcdefghijklmnopqrstuvwxyz\"\n",
        "char = balanced_chars[predicted_class] if predicted_class < len(balanced_chars) else \"?\"\n",
        "\n",
        "# Display results\n",
        "plt.figure(figsize=(4, 4))\n",
        "plt.imshow(img_array.reshape(28, 28), cmap='gray')\n",
        "plt.title(f\"Predicted: {char} (Confidence: {confidence:.4f})\")\n",
        "plt.axis('off')\n",
        "plt.show()\n",
        "\n",
        "print(f\"Predicted character: {char} (Class: {predicted_class}, Confidence: {confidence:.4f})\")\n",
        "\n",
        "# Top 3 predictions\n",
        "top_3_indices = np.argsort(prediction[0])[-3:][::-1]\n",
        "print(\"\\nTop 3 predictions:\")\n",
        "for idx in top_3_indices:\n",
        "    conf = prediction[0][idx]\n",
        "    c = balanced_chars[idx] if idx < len(balanced_chars) else \"?\"\n",
        "    print(f\"  {c}: {conf:.4f}\")\n"
      ],
      "metadata": {
        "colab": {
          "base_uri": "https://localhost:8080/",
          "height": 495
        },
        "id": "1GhIdzXud7mS",
        "outputId": "7bf9cb38-266c-4f0f-b95e-36f8c0b40d8e"
      },
      "execution_count": 50,
      "outputs": [
        {
          "output_type": "stream",
          "name": "stdout",
          "text": [
            "\u001b[1m1/1\u001b[0m \u001b[32m━━━━━━━━━━━━━━━━━━━━\u001b[0m\u001b[37m\u001b[0m \u001b[1m0s\u001b[0m 463ms/step\n"
          ]
        },
        {
          "output_type": "display_data",
          "data": {
            "text/plain": [
              "<Figure size 400x400 with 1 Axes>"
            ],
            "image/png": "[encoded data removed]"
          },
          "metadata": {}
        },
        {
          "output_type": "stream",
          "name": "stdout",
          "text": [
            "Predicted character: W (Class: 32, Confidence: 0.7375)\n",
            "\n",
            "Top 3 predictions:\n",
            "  W: 0.7375\n",
            "  M: 0.2608\n",
            "  N: 0.0008\n"
          ]
        }
      ]
    },
    {
      "cell_type": "code",
      "source": [
        "# sample_strokes_0=[[(50, 20, 0.5), (60, 20, 0.5), (70, 30, 0.5), (70, 40, 0.5),\n",
        "# (60, 50, 0.5), (50, 50, 0.5), (40, 40, 0.5), (40, 30, 0.5), (50, 20, 0.5)]]\n",
        "'''sample_strokes_1=[[(50, 20, 0.5), (50, 60, 0.5)]]\n",
        "sample_strokes_2=[[(40, 20, 0.5), (60, 20, 0.5), (70, 30, 0.5), (60, 40, 0.5), (40, 40, 0.5), (50, 60, 0.5)]]\n",
        "sample_strokes_3=[[(40, 20, 0.5), (60, 20, 0.5), (70, 30, 0.5), (60, 40, 0.5), (70, 50, 0.5), (60, 60, 0.5), (40, 60, 0.5)]]\n",
        "sample_strokes_4=[[(40, 60, 0.5), (40, 20, 0.5), (60, 40, 0.5), (60, 60, 0.5)]]\n",
        "sample_strokes_5=[[(60, 20, 0.5), (40, 20, 0.5), (40, 40, 0.5), (60, 40, 0.5), (50, 60, 0.5), (40, 60, 0.5)]]\n",
        "sample_strokes_6=[[(60, 20, 0.5), (40, 20, 0.5), (40, 60, 0.5), (60, 60, 0.5), (60, 40, 0.5)]]\n",
        "sample_strokes_7=[[(40, 20, 0.5), (60, 20, 0.5), (50, 60, 0.5)]]\n",
        "sample_strokes_8=[[(50, 20, 0.5), (60, 30, 0.5), (50, 40, 0.5), (60, 50, 0.5), (50, 60, 0.5), (40, 50, 0.5), (50, 40, 0.5), (40, 30, 0.5), (50, 20, 0.5)]]\n",
        "sample_strokes_9=[[(40, 60, 0.5), (60, 60, 0.5), (60, 40, 0.5), (40, 40, 0.5), (40, 20, 0.5)]]\n",
        "Uppercase (A-Z)\n",
        "sample_strokes_A=[[(40, 60, 0.5), (50, 20, 0.5), (60, 60, 0.5), (45, 40, 0.5), (55, 40, 0.5)]]\n",
        "sample_strokes_B=[[(40, 20, 0.5), (40, 60, 0.5), (50, 30, 0.5), (60, 40, 0.5), (50, 50, 0.5), (40, 50, 0.5), (50, 60, 0.5)]]\n",
        "sample_strokes_C=[[(60, 20, 0.5), (40, 20, 0.5), (40, 60, 0.5), (60, 60, 0.5)]]\n",
        "sample_strokes_D=[[(40, 20, 0.5), (40, 60, 0.5), (50, 60, 0.5), (60, 50, 0.5), (60, 30, 0.5), (50, 20, 0.5), (40, 20, 0.5)]]\n",
        "sample_strokes_E=[[(60, 20, 0.5), (40, 20, 0.5), (40, 60, 0.5), (60, 60, 0.5), (40, 40, 0.5), (60, 40, 0.5)]]\n",
        "\n",
        "B: [(40, 20, 0.5), (40, 60, 0.5), (50, 30, 0.5), (60, 40, 0.5), (50, 50, 0.5), (40, 50, 0.5), (50, 60, 0.5)]\n",
        "C: [(60, 20, 0.5), (40, 20, 0.5), (40, 60, 0.5), (60, 60, 0.5)]\n",
        "D: [(40, 20, 0.5), (40, 60, 0.5), (50, 60, 0.5), (60, 50, 0.5), (60, 30, 0.5), (50, 20, 0.5), (40, 20, 0.5)]\n",
        "E: [(60, 20, 0.5), (40, 20, 0.5), (40, 60, 0.5), (60, 60, 0.5), (40, 40, 0.5), (60, 40, 0.5)]\n",
        "'''"
      ],
      "metadata": {
        "id": "TkzPtZb3cAlB"
      },
      "execution_count": null,
      "outputs": []
    }
  ]
}